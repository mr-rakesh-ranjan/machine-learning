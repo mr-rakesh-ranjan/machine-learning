{
 "cells": [
  {
   "cell_type": "code",
   "execution_count": 1,
   "id": "f94a4168-f364-49c7-a666-cddbee278e07",
   "metadata": {},
   "outputs": [
    {
     "name": "stdout",
     "output_type": "stream",
     "text": [
      "Collecting haystack-ai\n",
      "  Downloading haystack_ai-2.8.1-py3-none-any.whl.metadata (13 kB)\n",
      "Collecting haystack-experimental (from haystack-ai)\n",
      "  Downloading haystack_experimental-0.4.0-py3-none-any.whl.metadata (16 kB)\n",
      "Requirement already satisfied: jinja2 in c:\\users\\rakeshranjankumar\\appdata\\local\\programs\\python\\python312\\lib\\site-packages (from haystack-ai) (3.1.4)\n",
      "Collecting lazy-imports (from haystack-ai)\n",
      "  Downloading lazy_imports-0.4.0-py3-none-any.whl.metadata (10 kB)\n",
      "Requirement already satisfied: more-itertools in c:\\users\\rakeshranjankumar\\appdata\\local\\programs\\python\\python312\\lib\\site-packages (from haystack-ai) (10.4.0)\n",
      "Collecting networkx (from haystack-ai)\n",
      "  Using cached networkx-3.4.2-py3-none-any.whl.metadata (6.3 kB)\n",
      "Requirement already satisfied: numpy in c:\\users\\rakeshranjankumar\\appdata\\local\\programs\\python\\python312\\lib\\site-packages (from haystack-ai) (2.0.1)\n",
      "Collecting openai>=1.56.1 (from haystack-ai)\n",
      "  Downloading openai-1.59.6-py3-none-any.whl.metadata (27 kB)\n",
      "Requirement already satisfied: pandas in c:\\users\\rakeshranjankumar\\appdata\\local\\programs\\python\\python312\\lib\\site-packages (from haystack-ai) (2.2.2)\n",
      "Collecting posthog (from haystack-ai)\n",
      "  Downloading posthog-3.7.5-py2.py3-none-any.whl.metadata (2.0 kB)\n",
      "Requirement already satisfied: python-dateutil in c:\\users\\rakeshranjankumar\\appdata\\local\\programs\\python\\python312\\lib\\site-packages (from haystack-ai) (2.9.0.post0)\n",
      "Requirement already satisfied: pyyaml in c:\\users\\rakeshranjankumar\\appdata\\local\\programs\\python\\python312\\lib\\site-packages (from haystack-ai) (6.0.1)\n",
      "Requirement already satisfied: requests in c:\\users\\rakeshranjankumar\\appdata\\local\\programs\\python\\python312\\lib\\site-packages (from haystack-ai) (2.32.3)\n",
      "Requirement already satisfied: tenacity!=8.4.0 in c:\\users\\rakeshranjankumar\\appdata\\local\\programs\\python\\python312\\lib\\site-packages (from haystack-ai) (8.5.0)\n",
      "Requirement already satisfied: tqdm in c:\\users\\rakeshranjankumar\\appdata\\local\\programs\\python\\python312\\lib\\site-packages (from haystack-ai) (4.66.5)\n",
      "Requirement already satisfied: typing-extensions>=4.7 in c:\\users\\rakeshranjankumar\\appdata\\local\\programs\\python\\python312\\lib\\site-packages (from haystack-ai) (4.12.2)\n",
      "Requirement already satisfied: anyio<5,>=3.5.0 in c:\\users\\rakeshranjankumar\\appdata\\local\\programs\\python\\python312\\lib\\site-packages (from openai>=1.56.1->haystack-ai) (4.4.0)\n",
      "Collecting distro<2,>=1.7.0 (from openai>=1.56.1->haystack-ai)\n",
      "  Using cached distro-1.9.0-py3-none-any.whl.metadata (6.8 kB)\n",
      "Requirement already satisfied: httpx<1,>=0.23.0 in c:\\users\\rakeshranjankumar\\appdata\\local\\programs\\python\\python312\\lib\\site-packages (from openai>=1.56.1->haystack-ai) (0.27.0)\n",
      "Collecting jiter<1,>=0.4.0 (from openai>=1.56.1->haystack-ai)\n",
      "  Downloading jiter-0.8.2-cp312-cp312-win_amd64.whl.metadata (5.3 kB)\n",
      "Requirement already satisfied: pydantic<3,>=1.9.0 in c:\\users\\rakeshranjankumar\\appdata\\local\\programs\\python\\python312\\lib\\site-packages (from openai>=1.56.1->haystack-ai) (2.8.2)\n",
      "Requirement already satisfied: sniffio in c:\\users\\rakeshranjankumar\\appdata\\local\\programs\\python\\python312\\lib\\site-packages (from openai>=1.56.1->haystack-ai) (1.3.1)\n",
      "Requirement already satisfied: colorama in c:\\users\\rakeshranjankumar\\appdata\\local\\programs\\python\\python312\\lib\\site-packages (from tqdm->haystack-ai) (0.4.6)\n",
      "Requirement already satisfied: MarkupSafe>=2.0 in c:\\users\\rakeshranjankumar\\appdata\\local\\programs\\python\\python312\\lib\\site-packages (from jinja2->haystack-ai) (2.1.5)\n",
      "Requirement already satisfied: pytz>=2020.1 in c:\\users\\rakeshranjankumar\\appdata\\local\\programs\\python\\python312\\lib\\site-packages (from pandas->haystack-ai) (2024.1)\n",
      "Requirement already satisfied: tzdata>=2022.7 in c:\\users\\rakeshranjankumar\\appdata\\local\\programs\\python\\python312\\lib\\site-packages (from pandas->haystack-ai) (2024.1)\n",
      "Requirement already satisfied: six>=1.5 in c:\\users\\rakeshranjankumar\\appdata\\local\\programs\\python\\python312\\lib\\site-packages (from python-dateutil->haystack-ai) (1.16.0)\n",
      "Collecting monotonic>=1.5 (from posthog->haystack-ai)\n",
      "  Using cached monotonic-1.6-py2.py3-none-any.whl.metadata (1.5 kB)\n",
      "Collecting backoff>=1.10.0 (from posthog->haystack-ai)\n",
      "  Using cached backoff-2.2.1-py3-none-any.whl.metadata (14 kB)\n",
      "Requirement already satisfied: charset-normalizer<4,>=2 in c:\\users\\rakeshranjankumar\\appdata\\local\\programs\\python\\python312\\lib\\site-packages (from requests->haystack-ai) (3.3.2)\n",
      "Requirement already satisfied: idna<4,>=2.5 in c:\\users\\rakeshranjankumar\\appdata\\local\\programs\\python\\python312\\lib\\site-packages (from requests->haystack-ai) (3.7)\n",
      "Requirement already satisfied: urllib3<3,>=1.21.1 in c:\\users\\rakeshranjankumar\\appdata\\local\\programs\\python\\python312\\lib\\site-packages (from requests->haystack-ai) (2.2.2)\n",
      "Requirement already satisfied: certifi>=2017.4.17 in c:\\users\\rakeshranjankumar\\appdata\\local\\programs\\python\\python312\\lib\\site-packages (from requests->haystack-ai) (2024.7.4)\n",
      "Requirement already satisfied: httpcore==1.* in c:\\users\\rakeshranjankumar\\appdata\\local\\programs\\python\\python312\\lib\\site-packages (from httpx<1,>=0.23.0->openai>=1.56.1->haystack-ai) (1.0.5)\n",
      "Requirement already satisfied: h11<0.15,>=0.13 in c:\\users\\rakeshranjankumar\\appdata\\local\\programs\\python\\python312\\lib\\site-packages (from httpcore==1.*->httpx<1,>=0.23.0->openai>=1.56.1->haystack-ai) (0.14.0)\n",
      "Requirement already satisfied: annotated-types>=0.4.0 in c:\\users\\rakeshranjankumar\\appdata\\local\\programs\\python\\python312\\lib\\site-packages (from pydantic<3,>=1.9.0->openai>=1.56.1->haystack-ai) (0.7.0)\n",
      "Requirement already satisfied: pydantic-core==2.20.1 in c:\\users\\rakeshranjankumar\\appdata\\local\\programs\\python\\python312\\lib\\site-packages (from pydantic<3,>=1.9.0->openai>=1.56.1->haystack-ai) (2.20.1)\n",
      "Downloading haystack_ai-2.8.1-py3-none-any.whl (392 kB)\n",
      "   ---------------------------------------- 0.0/392.0 kB ? eta -:--:--\n",
      "   ----- ---------------------------------- 51.2/392.0 kB 2.6 MB/s eta 0:00:01\n",
      "   ------------- -------------------------- 133.1/392.0 kB 1.6 MB/s eta 0:00:01\n",
      "   -------------------- ------------------- 204.8/392.0 kB 1.8 MB/s eta 0:00:01\n",
      "   ---------------------------------------  389.1/392.0 kB 2.4 MB/s eta 0:00:01\n",
      "   ---------------------------------------- 392.0/392.0 kB 1.9 MB/s eta 0:00:00\n",
      "Downloading openai-1.59.6-py3-none-any.whl (454 kB)\n",
      "   ---------------------------------------- 0.0/454.8 kB ? eta -:--:--\n",
      "   ------------------- -------------------- 225.3/454.8 kB 6.9 MB/s eta 0:00:01\n",
      "   ----------------------------------- ---- 399.4/454.8 kB 5.0 MB/s eta 0:00:01\n",
      "   ---------------------------------------- 454.8/454.8 kB 3.6 MB/s eta 0:00:00\n",
      "Downloading haystack_experimental-0.4.0-py3-none-any.whl (109 kB)\n",
      "   ---------------------------------------- 0.0/109.8 kB ? eta -:--:--\n",
      "   ---------------------------------------- 109.8/109.8 kB 3.2 MB/s eta 0:00:00\n",
      "Downloading lazy_imports-0.4.0-py3-none-any.whl (12 kB)\n",
      "Using cached networkx-3.4.2-py3-none-any.whl (1.7 MB)\n",
      "Downloading posthog-3.7.5-py2.py3-none-any.whl (54 kB)\n",
      "   ---------------------------------------- 0.0/54.9 kB ? eta -:--:--\n",
      "   ---------------------------------------- 54.9/54.9 kB 1.4 MB/s eta 0:00:00\n",
      "Using cached backoff-2.2.1-py3-none-any.whl (15 kB)\n",
      "Using cached distro-1.9.0-py3-none-any.whl (20 kB)\n",
      "Downloading jiter-0.8.2-cp312-cp312-win_amd64.whl (204 kB)\n",
      "   ---------------------------------------- 0.0/204.7 kB ? eta -:--:--\n",
      "   ------------------------------------- - 194.6/204.7 kB 11.5 MB/s eta 0:00:01\n",
      "   ---------------------------------------- 204.7/204.7 kB 2.5 MB/s eta 0:00:00\n",
      "Using cached monotonic-1.6-py2.py3-none-any.whl (8.2 kB)\n",
      "Installing collected packages: monotonic, networkx, lazy-imports, jiter, distro, backoff, posthog, openai, haystack-experimental, haystack-ai\n",
      "  Attempting uninstall: openai\n",
      "    Found existing installation: openai 0.28.0\n",
      "    Uninstalling openai-0.28.0:\n",
      "      Successfully uninstalled openai-0.28.0\n",
      "Successfully installed backoff-2.2.1 distro-1.9.0 haystack-ai-2.8.1 haystack-experimental-0.4.0 jiter-0.8.2 lazy-imports-0.4.0 monotonic-1.6 networkx-3.4.2 openai-1.59.6 posthog-3.7.5\n"
     ]
    },
    {
     "name": "stderr",
     "output_type": "stream",
     "text": [
      "\n",
      "[notice] A new release of pip is available: 24.0 -> 24.3.1\n",
      "[notice] To update, run: python.exe -m pip install --upgrade pip\n"
     ]
    }
   ],
   "source": [
    "!pip install haystack-ai"
   ]
  },
  {
   "cell_type": "code",
   "execution_count": 2,
   "id": "9138fbcd-eeb1-485a-bb2f-27c2557689e6",
   "metadata": {},
   "outputs": [
    {
     "name": "stdout",
     "output_type": "stream",
     "text": [
      "Couldn't find program: 'bash'\n"
     ]
    }
   ],
   "source": [
    "%%bash\n",
    "\n",
    "pip install \"datasets>=2.6.1\"\n",
    "pip install \"sentence-transformers>=3.0.0\""
   ]
  },
  {
   "cell_type": "code",
   "execution_count": 3,
   "id": "9ea56652-2c4f-41af-8353-a6ad2c218200",
   "metadata": {},
   "outputs": [
    {
     "name": "stdout",
     "output_type": "stream",
     "text": [
      "Collecting datasets>=2.6.1\n",
      "  Downloading datasets-3.2.0-py3-none-any.whl.metadata (20 kB)\n",
      "Requirement already satisfied: filelock in c:\\users\\rakeshranjankumar\\appdata\\local\\programs\\python\\python312\\lib\\site-packages (from datasets>=2.6.1) (3.15.4)\n",
      "Requirement already satisfied: numpy>=1.17 in c:\\users\\rakeshranjankumar\\appdata\\local\\programs\\python\\python312\\lib\\site-packages (from datasets>=2.6.1) (2.0.1)\n",
      "Requirement already satisfied: pyarrow>=15.0.0 in c:\\users\\rakeshranjankumar\\appdata\\local\\programs\\python\\python312\\lib\\site-packages (from datasets>=2.6.1) (17.0.0)\n",
      "Collecting dill<0.3.9,>=0.3.0 (from datasets>=2.6.1)\n",
      "  Using cached dill-0.3.8-py3-none-any.whl.metadata (10 kB)\n",
      "Requirement already satisfied: pandas in c:\\users\\rakeshranjankumar\\appdata\\local\\programs\\python\\python312\\lib\\site-packages (from datasets>=2.6.1) (2.2.2)\n",
      "Requirement already satisfied: requests>=2.32.2 in c:\\users\\rakeshranjankumar\\appdata\\local\\programs\\python\\python312\\lib\\site-packages (from datasets>=2.6.1) (2.32.3)\n",
      "Requirement already satisfied: tqdm>=4.66.3 in c:\\users\\rakeshranjankumar\\appdata\\local\\programs\\python\\python312\\lib\\site-packages (from datasets>=2.6.1) (4.66.5)\n",
      "Collecting xxhash (from datasets>=2.6.1)\n",
      "  Using cached xxhash-3.5.0-cp312-cp312-win_amd64.whl.metadata (13 kB)\n",
      "Collecting multiprocess<0.70.17 (from datasets>=2.6.1)\n",
      "  Using cached multiprocess-0.70.16-py312-none-any.whl.metadata (7.2 kB)\n",
      "Collecting fsspec<=2024.9.0,>=2023.1.0 (from fsspec[http]<=2024.9.0,>=2023.1.0->datasets>=2.6.1)\n",
      "  Using cached fsspec-2024.9.0-py3-none-any.whl.metadata (11 kB)\n",
      "Requirement already satisfied: aiohttp in c:\\users\\rakeshranjankumar\\appdata\\local\\programs\\python\\python312\\lib\\site-packages (from datasets>=2.6.1) (3.10.5)\n",
      "Collecting huggingface-hub>=0.23.0 (from datasets>=2.6.1)\n",
      "  Downloading huggingface_hub-0.27.1-py3-none-any.whl.metadata (13 kB)\n",
      "Requirement already satisfied: packaging in c:\\users\\rakeshranjankumar\\appdata\\local\\programs\\python\\python312\\lib\\site-packages (from datasets>=2.6.1) (24.1)\n",
      "Requirement already satisfied: pyyaml>=5.1 in c:\\users\\rakeshranjankumar\\appdata\\local\\programs\\python\\python312\\lib\\site-packages (from datasets>=2.6.1) (6.0.1)\n",
      "Requirement already satisfied: aiohappyeyeballs>=2.3.0 in c:\\users\\rakeshranjankumar\\appdata\\local\\programs\\python\\python312\\lib\\site-packages (from aiohttp->datasets>=2.6.1) (2.4.0)\n",
      "Requirement already satisfied: aiosignal>=1.1.2 in c:\\users\\rakeshranjankumar\\appdata\\local\\programs\\python\\python312\\lib\\site-packages (from aiohttp->datasets>=2.6.1) (1.3.1)\n",
      "Requirement already satisfied: attrs>=17.3.0 in c:\\users\\rakeshranjankumar\\appdata\\local\\programs\\python\\python312\\lib\\site-packages (from aiohttp->datasets>=2.6.1) (23.2.0)\n",
      "Requirement already satisfied: frozenlist>=1.1.1 in c:\\users\\rakeshranjankumar\\appdata\\local\\programs\\python\\python312\\lib\\site-packages (from aiohttp->datasets>=2.6.1) (1.4.1)\n",
      "Requirement already satisfied: multidict<7.0,>=4.5 in c:\\users\\rakeshranjankumar\\appdata\\local\\programs\\python\\python312\\lib\\site-packages (from aiohttp->datasets>=2.6.1) (6.0.5)\n",
      "Requirement already satisfied: yarl<2.0,>=1.0 in c:\\users\\rakeshranjankumar\\appdata\\local\\programs\\python\\python312\\lib\\site-packages (from aiohttp->datasets>=2.6.1) (1.9.4)\n",
      "Requirement already satisfied: typing-extensions>=3.7.4.3 in c:\\users\\rakeshranjankumar\\appdata\\local\\programs\\python\\python312\\lib\\site-packages (from huggingface-hub>=0.23.0->datasets>=2.6.1) (4.12.2)\n",
      "Requirement already satisfied: charset-normalizer<4,>=2 in c:\\users\\rakeshranjankumar\\appdata\\local\\programs\\python\\python312\\lib\\site-packages (from requests>=2.32.2->datasets>=2.6.1) (3.3.2)\n",
      "Requirement already satisfied: idna<4,>=2.5 in c:\\users\\rakeshranjankumar\\appdata\\local\\programs\\python\\python312\\lib\\site-packages (from requests>=2.32.2->datasets>=2.6.1) (3.7)\n",
      "Requirement already satisfied: urllib3<3,>=1.21.1 in c:\\users\\rakeshranjankumar\\appdata\\local\\programs\\python\\python312\\lib\\site-packages (from requests>=2.32.2->datasets>=2.6.1) (2.2.2)\n",
      "Requirement already satisfied: certifi>=2017.4.17 in c:\\users\\rakeshranjankumar\\appdata\\local\\programs\\python\\python312\\lib\\site-packages (from requests>=2.32.2->datasets>=2.6.1) (2024.7.4)\n",
      "Requirement already satisfied: colorama in c:\\users\\rakeshranjankumar\\appdata\\local\\programs\\python\\python312\\lib\\site-packages (from tqdm>=4.66.3->datasets>=2.6.1) (0.4.6)\n",
      "Requirement already satisfied: python-dateutil>=2.8.2 in c:\\users\\rakeshranjankumar\\appdata\\local\\programs\\python\\python312\\lib\\site-packages (from pandas->datasets>=2.6.1) (2.9.0.post0)\n",
      "Requirement already satisfied: pytz>=2020.1 in c:\\users\\rakeshranjankumar\\appdata\\local\\programs\\python\\python312\\lib\\site-packages (from pandas->datasets>=2.6.1) (2024.1)\n",
      "Requirement already satisfied: tzdata>=2022.7 in c:\\users\\rakeshranjankumar\\appdata\\local\\programs\\python\\python312\\lib\\site-packages (from pandas->datasets>=2.6.1) (2024.1)\n",
      "Requirement already satisfied: six>=1.5 in c:\\users\\rakeshranjankumar\\appdata\\local\\programs\\python\\python312\\lib\\site-packages (from python-dateutil>=2.8.2->pandas->datasets>=2.6.1) (1.16.0)\n",
      "Downloading datasets-3.2.0-py3-none-any.whl (480 kB)\n",
      "   ---------------------------------------- 0.0/480.6 kB ? eta -:--:--\n",
      "   --- ----------------------------------- 41.0/480.6 kB 667.8 kB/s eta 0:00:01\n",
      "   ------- ------------------------------- 92.2/480.6 kB 880.9 kB/s eta 0:00:01\n",
      "   ----------- -------------------------- 143.4/480.6 kB 950.9 kB/s eta 0:00:01\n",
      "   ------------------- -------------------- 235.5/480.6 kB 1.3 MB/s eta 0:00:01\n",
      "   --------------------------------- ------ 399.4/480.6 kB 1.8 MB/s eta 0:00:01\n",
      "   ---------------------------------------  471.0/480.6 kB 2.0 MB/s eta 0:00:01\n",
      "   ---------------------------------------- 480.6/480.6 kB 1.7 MB/s eta 0:00:00\n",
      "Using cached dill-0.3.8-py3-none-any.whl (116 kB)\n",
      "Using cached fsspec-2024.9.0-py3-none-any.whl (179 kB)\n",
      "Downloading huggingface_hub-0.27.1-py3-none-any.whl (450 kB)\n",
      "   ---------------------------------------- 0.0/450.7 kB ? eta -:--:--\n",
      "   ------------------------------ --------- 348.2/450.7 kB 7.2 MB/s eta 0:00:01\n",
      "   ---------------------------------------  450.6/450.7 kB 9.4 MB/s eta 0:00:01\n",
      "   ---------------------------------------- 450.7/450.7 kB 4.0 MB/s eta 0:00:00\n",
      "Using cached multiprocess-0.70.16-py312-none-any.whl (146 kB)\n",
      "Using cached xxhash-3.5.0-cp312-cp312-win_amd64.whl (30 kB)\n",
      "Installing collected packages: xxhash, fsspec, dill, multiprocess, huggingface-hub, datasets\n",
      "Successfully installed datasets-3.2.0 dill-0.3.8 fsspec-2024.9.0 huggingface-hub-0.27.1 multiprocess-0.70.16 xxhash-3.5.0\n"
     ]
    },
    {
     "name": "stderr",
     "output_type": "stream",
     "text": [
      "\n",
      "[notice] A new release of pip is available: 24.0 -> 24.3.1\n",
      "[notice] To update, run: python.exe -m pip install --upgrade pip\n"
     ]
    },
    {
     "name": "stdout",
     "output_type": "stream",
     "text": [
      "Collecting sentence-transformers>=3.0.0\n",
      "  Downloading sentence_transformers-3.3.1-py3-none-any.whl.metadata (10 kB)\n",
      "Collecting transformers<5.0.0,>=4.41.0 (from sentence-transformers>=3.0.0)\n",
      "  Downloading transformers-4.48.0-py3-none-any.whl.metadata (44 kB)\n",
      "     ---------------------------------------- 0.0/44.4 kB ? eta -:--:--\n",
      "     ---------------------------------------- 0.0/44.4 kB ? eta -:--:--\n",
      "     --------- ------------------------------ 10.2/44.4 kB ? eta -:--:--\n",
      "     -------------------------- ----------- 30.7/44.4 kB 262.6 kB/s eta 0:00:01\n",
      "     -------------------------------------- 44.4/44.4 kB 313.3 kB/s eta 0:00:00\n",
      "Requirement already satisfied: tqdm in c:\\users\\rakeshranjankumar\\appdata\\local\\programs\\python\\python312\\lib\\site-packages (from sentence-transformers>=3.0.0) (4.66.5)\n",
      "Collecting torch>=1.11.0 (from sentence-transformers>=3.0.0)\n",
      "  Using cached torch-2.5.1-cp312-cp312-win_amd64.whl.metadata (28 kB)\n",
      "Requirement already satisfied: scikit-learn in c:\\users\\rakeshranjankumar\\appdata\\local\\programs\\python\\python312\\lib\\site-packages (from sentence-transformers>=3.0.0) (1.5.1)\n",
      "Requirement already satisfied: scipy in c:\\users\\rakeshranjankumar\\appdata\\local\\programs\\python\\python312\\lib\\site-packages (from sentence-transformers>=3.0.0) (1.14.1)\n",
      "Requirement already satisfied: huggingface-hub>=0.20.0 in c:\\users\\rakeshranjankumar\\appdata\\local\\programs\\python\\python312\\lib\\site-packages (from sentence-transformers>=3.0.0) (0.27.1)\n",
      "Requirement already satisfied: Pillow in c:\\users\\rakeshranjankumar\\appdata\\local\\programs\\python\\python312\\lib\\site-packages (from sentence-transformers>=3.0.0) (10.4.0)\n",
      "Requirement already satisfied: filelock in c:\\users\\rakeshranjankumar\\appdata\\local\\programs\\python\\python312\\lib\\site-packages (from huggingface-hub>=0.20.0->sentence-transformers>=3.0.0) (3.15.4)\n",
      "Requirement already satisfied: fsspec>=2023.5.0 in c:\\users\\rakeshranjankumar\\appdata\\local\\programs\\python\\python312\\lib\\site-packages (from huggingface-hub>=0.20.0->sentence-transformers>=3.0.0) (2024.9.0)\n",
      "Requirement already satisfied: packaging>=20.9 in c:\\users\\rakeshranjankumar\\appdata\\local\\programs\\python\\python312\\lib\\site-packages (from huggingface-hub>=0.20.0->sentence-transformers>=3.0.0) (24.1)\n",
      "Requirement already satisfied: pyyaml>=5.1 in c:\\users\\rakeshranjankumar\\appdata\\local\\programs\\python\\python312\\lib\\site-packages (from huggingface-hub>=0.20.0->sentence-transformers>=3.0.0) (6.0.1)\n",
      "Requirement already satisfied: requests in c:\\users\\rakeshranjankumar\\appdata\\local\\programs\\python\\python312\\lib\\site-packages (from huggingface-hub>=0.20.0->sentence-transformers>=3.0.0) (2.32.3)\n",
      "Requirement already satisfied: typing-extensions>=3.7.4.3 in c:\\users\\rakeshranjankumar\\appdata\\local\\programs\\python\\python312\\lib\\site-packages (from huggingface-hub>=0.20.0->sentence-transformers>=3.0.0) (4.12.2)\n",
      "Requirement already satisfied: networkx in c:\\users\\rakeshranjankumar\\appdata\\local\\programs\\python\\python312\\lib\\site-packages (from torch>=1.11.0->sentence-transformers>=3.0.0) (3.4.2)\n",
      "Requirement already satisfied: jinja2 in c:\\users\\rakeshranjankumar\\appdata\\local\\programs\\python\\python312\\lib\\site-packages (from torch>=1.11.0->sentence-transformers>=3.0.0) (3.1.4)\n",
      "Collecting setuptools (from torch>=1.11.0->sentence-transformers>=3.0.0)\n",
      "  Downloading setuptools-75.8.0-py3-none-any.whl.metadata (6.7 kB)\n",
      "Collecting sympy==1.13.1 (from torch>=1.11.0->sentence-transformers>=3.0.0)\n",
      "  Using cached sympy-1.13.1-py3-none-any.whl.metadata (12 kB)\n",
      "Collecting mpmath<1.4,>=1.1.0 (from sympy==1.13.1->torch>=1.11.0->sentence-transformers>=3.0.0)\n",
      "  Using cached mpmath-1.3.0-py3-none-any.whl.metadata (8.6 kB)\n",
      "Requirement already satisfied: colorama in c:\\users\\rakeshranjankumar\\appdata\\local\\programs\\python\\python312\\lib\\site-packages (from tqdm->sentence-transformers>=3.0.0) (0.4.6)\n",
      "Requirement already satisfied: numpy>=1.17 in c:\\users\\rakeshranjankumar\\appdata\\local\\programs\\python\\python312\\lib\\site-packages (from transformers<5.0.0,>=4.41.0->sentence-transformers>=3.0.0) (2.0.1)\n",
      "Collecting regex!=2019.12.17 (from transformers<5.0.0,>=4.41.0->sentence-transformers>=3.0.0)\n",
      "  Using cached regex-2024.11.6-cp312-cp312-win_amd64.whl.metadata (41 kB)\n",
      "Collecting tokenizers<0.22,>=0.21 (from transformers<5.0.0,>=4.41.0->sentence-transformers>=3.0.0)\n",
      "  Downloading tokenizers-0.21.0-cp39-abi3-win_amd64.whl.metadata (6.9 kB)\n",
      "Collecting safetensors>=0.4.1 (from transformers<5.0.0,>=4.41.0->sentence-transformers>=3.0.0)\n",
      "  Downloading safetensors-0.5.2-cp38-abi3-win_amd64.whl.metadata (3.9 kB)\n",
      "Requirement already satisfied: joblib>=1.2.0 in c:\\users\\rakeshranjankumar\\appdata\\local\\programs\\python\\python312\\lib\\site-packages (from scikit-learn->sentence-transformers>=3.0.0) (1.4.2)\n",
      "Requirement already satisfied: threadpoolctl>=3.1.0 in c:\\users\\rakeshranjankumar\\appdata\\local\\programs\\python\\python312\\lib\\site-packages (from scikit-learn->sentence-transformers>=3.0.0) (3.5.0)\n",
      "Requirement already satisfied: MarkupSafe>=2.0 in c:\\users\\rakeshranjankumar\\appdata\\local\\programs\\python\\python312\\lib\\site-packages (from jinja2->torch>=1.11.0->sentence-transformers>=3.0.0) (2.1.5)\n",
      "Requirement already satisfied: charset-normalizer<4,>=2 in c:\\users\\rakeshranjankumar\\appdata\\local\\programs\\python\\python312\\lib\\site-packages (from requests->huggingface-hub>=0.20.0->sentence-transformers>=3.0.0) (3.3.2)\n",
      "Requirement already satisfied: idna<4,>=2.5 in c:\\users\\rakeshranjankumar\\appdata\\local\\programs\\python\\python312\\lib\\site-packages (from requests->huggingface-hub>=0.20.0->sentence-transformers>=3.0.0) (3.7)\n",
      "Requirement already satisfied: urllib3<3,>=1.21.1 in c:\\users\\rakeshranjankumar\\appdata\\local\\programs\\python\\python312\\lib\\site-packages (from requests->huggingface-hub>=0.20.0->sentence-transformers>=3.0.0) (2.2.2)\n",
      "Requirement already satisfied: certifi>=2017.4.17 in c:\\users\\rakeshranjankumar\\appdata\\local\\programs\\python\\python312\\lib\\site-packages (from requests->huggingface-hub>=0.20.0->sentence-transformers>=3.0.0) (2024.7.4)\n",
      "Downloading sentence_transformers-3.3.1-py3-none-any.whl (268 kB)\n",
      "   ---------------------------------------- 0.0/268.8 kB ? eta -:--:--\n",
      "   ------ --------------------------------- 41.0/268.8 kB ? eta -:--:--\n",
      "   ---------------- ----------------------- 112.6/268.8 kB 1.3 MB/s eta 0:00:01\n",
      "   ---------------------------- ----------- 194.6/268.8 kB 1.5 MB/s eta 0:00:01\n",
      "   ---------------------------------------  266.2/268.8 kB 1.6 MB/s eta 0:00:01\n",
      "   ---------------------------------------- 268.8/268.8 kB 1.3 MB/s eta 0:00:00\n",
      "Using cached torch-2.5.1-cp312-cp312-win_amd64.whl (203.0 MB)\n",
      "Using cached sympy-1.13.1-py3-none-any.whl (6.2 MB)\n",
      "Downloading transformers-4.48.0-py3-none-any.whl (9.7 MB)\n",
      "   ---------------------------------------- 0.0/9.7 MB ? eta -:--:--\n",
      "   - -------------------------------------- 0.3/9.7 MB 15.4 MB/s eta 0:00:01\n",
      "   - -------------------------------------- 0.3/9.7 MB 6.3 MB/s eta 0:00:02\n",
      "   -- ------------------------------------- 0.5/9.7 MB 4.2 MB/s eta 0:00:03\n",
      "   -- ------------------------------------- 0.7/9.7 MB 4.6 MB/s eta 0:00:02\n",
      "   -- ------------------------------------- 0.7/9.7 MB 4.6 MB/s eta 0:00:02\n",
      "   -- ------------------------------------- 0.7/9.7 MB 4.6 MB/s eta 0:00:02\n",
      "   -- ------------------------------------- 0.7/9.7 MB 4.6 MB/s eta 0:00:02\n",
      "   -- ------------------------------------- 0.7/9.7 MB 4.6 MB/s eta 0:00:02\n",
      "   ------- -------------------------------- 1.7/9.7 MB 4.8 MB/s eta 0:00:02\n",
      "   ------- -------------------------------- 1.7/9.7 MB 4.8 MB/s eta 0:00:02\n",
      "   ------- -------------------------------- 1.7/9.7 MB 3.8 MB/s eta 0:00:03\n",
      "   ------- -------------------------------- 1.9/9.7 MB 3.7 MB/s eta 0:00:03\n",
      "   --------- ------------------------------ 2.2/9.7 MB 3.9 MB/s eta 0:00:02\n",
      "   ---------- ----------------------------- 2.5/9.7 MB 4.1 MB/s eta 0:00:02\n",
      "   ----------- ---------------------------- 2.9/9.7 MB 4.3 MB/s eta 0:00:02\n",
      "   ------------- -------------------------- 3.2/9.7 MB 4.5 MB/s eta 0:00:02\n",
      "   -------------- ------------------------- 3.5/9.7 MB 4.7 MB/s eta 0:00:02\n",
      "   --------------- ------------------------ 3.8/9.7 MB 4.8 MB/s eta 0:00:02\n",
      "   ---------------- ----------------------- 4.1/9.7 MB 4.9 MB/s eta 0:00:02\n",
      "   ------------------ --------------------- 4.4/9.7 MB 5.0 MB/s eta 0:00:02\n",
      "   ------------------- -------------------- 4.6/9.7 MB 5.0 MB/s eta 0:00:01\n",
      "   -------------------- ------------------- 4.9/9.7 MB 5.2 MB/s eta 0:00:01\n",
      "   --------------------- ------------------ 5.3/9.7 MB 5.2 MB/s eta 0:00:01\n",
      "   ---------------------- ----------------- 5.5/9.7 MB 5.3 MB/s eta 0:00:01\n",
      "   ----------------------- ---------------- 5.8/9.7 MB 5.3 MB/s eta 0:00:01\n",
      "   ------------------------- -------------- 6.1/9.7 MB 5.4 MB/s eta 0:00:01\n",
      "   -------------------------- ------------- 6.4/9.7 MB 5.4 MB/s eta 0:00:01\n",
      "   --------------------------- ------------ 6.7/9.7 MB 5.5 MB/s eta 0:00:01\n",
      "   ---------------------------- ----------- 7.0/9.7 MB 5.5 MB/s eta 0:00:01\n",
      "   ------------------------------ --------- 7.4/9.7 MB 5.6 MB/s eta 0:00:01\n",
      "   ------------------------------- -------- 7.7/9.7 MB 5.6 MB/s eta 0:00:01\n",
      "   -------------------------------- ------- 8.0/9.7 MB 5.6 MB/s eta 0:00:01\n",
      "   ---------------------------------- ----- 8.3/9.7 MB 5.7 MB/s eta 0:00:01\n",
      "   ----------------------------------- ---- 8.6/9.7 MB 5.7 MB/s eta 0:00:01\n",
      "   ------------------------------------- -- 8.9/9.7 MB 5.8 MB/s eta 0:00:01\n",
      "   -------------------------------------- - 9.3/9.7 MB 5.8 MB/s eta 0:00:01\n",
      "   ---------------------------------------  9.6/9.7 MB 5.9 MB/s eta 0:00:01\n",
      "   ---------------------------------------  9.7/9.7 MB 5.8 MB/s eta 0:00:01\n",
      "   ---------------------------------------  9.7/9.7 MB 5.8 MB/s eta 0:00:01\n",
      "   ---------------------------------------- 9.7/9.7 MB 5.5 MB/s eta 0:00:00\n",
      "Using cached regex-2024.11.6-cp312-cp312-win_amd64.whl (273 kB)\n",
      "Downloading safetensors-0.5.2-cp38-abi3-win_amd64.whl (303 kB)\n",
      "   ---------------------------------------- 0.0/303.8 kB ? eta -:--:--\n",
      "   ---------------------------------------- 303.8/303.8 kB 9.5 MB/s eta 0:00:00\n",
      "Downloading tokenizers-0.21.0-cp39-abi3-win_amd64.whl (2.4 MB)\n",
      "   ---------------------------------------- 0.0/2.4 MB ? eta -:--:--\n",
      "   ---- ----------------------------------- 0.3/2.4 MB 7.9 MB/s eta 0:00:01\n",
      "   -------- ------------------------------- 0.5/2.4 MB 6.3 MB/s eta 0:00:01\n",
      "   ------------- -------------------------- 0.8/2.4 MB 6.3 MB/s eta 0:00:01\n",
      "   ------------------ --------------------- 1.1/2.4 MB 7.0 MB/s eta 0:00:01\n",
      "   ---------------------- ----------------- 1.4/2.4 MB 6.6 MB/s eta 0:00:01\n",
      "   --------------------------- ------------ 1.6/2.4 MB 6.6 MB/s eta 0:00:01\n",
      "   -------------------------------- ------- 1.9/2.4 MB 6.9 MB/s eta 0:00:01\n",
      "   ------------------------------------- -- 2.2/2.4 MB 6.8 MB/s eta 0:00:01\n",
      "   ---------------------------------------  2.4/2.4 MB 6.9 MB/s eta 0:00:01\n",
      "   ---------------------------------------- 2.4/2.4 MB 5.9 MB/s eta 0:00:00\n",
      "Downloading setuptools-75.8.0-py3-none-any.whl (1.2 MB)\n",
      "   ---------------------------------------- 0.0/1.2 MB ? eta -:--:--\n",
      "   ------------ --------------------------- 0.4/1.2 MB 7.6 MB/s eta 0:00:01\n",
      "   --------------------- ------------------ 0.7/1.2 MB 8.4 MB/s eta 0:00:01\n",
      "   -------------------------------- ------- 1.0/1.2 MB 7.9 MB/s eta 0:00:01\n",
      "   ---------------------------------------  1.2/1.2 MB 7.0 MB/s eta 0:00:01\n",
      "   ---------------------------------------- 1.2/1.2 MB 5.6 MB/s eta 0:00:00\n",
      "Using cached mpmath-1.3.0-py3-none-any.whl (536 kB)\n",
      "Installing collected packages: mpmath, sympy, setuptools, safetensors, regex, torch, tokenizers, transformers, sentence-transformers\n",
      "Successfully installed mpmath-1.3.0 regex-2024.11.6 safetensors-0.5.2 sentence-transformers-3.3.1 setuptools-75.8.0 sympy-1.13.1 tokenizers-0.21.0 torch-2.5.1 transformers-4.48.0\n"
     ]
    },
    {
     "name": "stderr",
     "output_type": "stream",
     "text": [
      "\n",
      "[notice] A new release of pip is available: 24.0 -> 24.3.1\n",
      "[notice] To update, run: python.exe -m pip install --upgrade pip\n"
     ]
    }
   ],
   "source": [
    "!pip install \"datasets>=2.6.1\"\n",
    "!pip install \"sentence-transformers>=3.0.0\""
   ]
  },
  {
   "cell_type": "code",
   "execution_count": 4,
   "id": "43b01d25-52ac-4f7d-b093-dbc7d178033e",
   "metadata": {},
   "outputs": [
    {
     "ename": "Exception",
     "evalue": "File `':'` not found.",
     "output_type": "error",
     "traceback": [
      "\u001b[1;31m---------------------------------------------------------------------------\u001b[0m",
      "\u001b[1;31mOSError\u001b[0m                                   Traceback (most recent call last)",
      "File \u001b[1;32m~\\AppData\\Local\\Programs\\Python\\Python312\\Lib\\site-packages\\IPython\\core\\magics\\execution.py:716\u001b[0m, in \u001b[0;36mExecutionMagics.run\u001b[1;34m(self, parameter_s, runner, file_finder)\u001b[0m\n\u001b[0;32m    715\u001b[0m     fpath \u001b[38;5;241m=\u001b[39m arg_lst[\u001b[38;5;241m0\u001b[39m]\n\u001b[1;32m--> 716\u001b[0m     filename \u001b[38;5;241m=\u001b[39m \u001b[43mfile_finder\u001b[49m\u001b[43m(\u001b[49m\u001b[43mfpath\u001b[49m\u001b[43m)\u001b[49m\n\u001b[0;32m    717\u001b[0m \u001b[38;5;28;01mexcept\u001b[39;00m \u001b[38;5;167;01mIndexError\u001b[39;00m \u001b[38;5;28;01mas\u001b[39;00m e:\n",
      "File \u001b[1;32m~\\AppData\\Local\\Programs\\Python\\Python312\\Lib\\site-packages\\IPython\\utils\\path.py:91\u001b[0m, in \u001b[0;36mget_py_filename\u001b[1;34m(name)\u001b[0m\n\u001b[0;32m     90\u001b[0m         \u001b[38;5;28;01mreturn\u001b[39;00m py_name\n\u001b[1;32m---> 91\u001b[0m \u001b[38;5;28;01mraise\u001b[39;00m \u001b[38;5;167;01mIOError\u001b[39;00m(\u001b[38;5;124m\"\u001b[39m\u001b[38;5;124mFile `\u001b[39m\u001b[38;5;132;01m%r\u001b[39;00m\u001b[38;5;124m` not found.\u001b[39m\u001b[38;5;124m\"\u001b[39m \u001b[38;5;241m%\u001b[39m name)\n",
      "\u001b[1;31mOSError\u001b[0m: File `':'` not found.",
      "\nThe above exception was the direct cause of the following exception:\n",
      "\u001b[1;31mException\u001b[0m                                 Traceback (most recent call last)",
      "Cell \u001b[1;32mIn[4], line 1\u001b[0m\n\u001b[1;32m----> 1\u001b[0m \u001b[43mget_ipython\u001b[49m\u001b[43m(\u001b[49m\u001b[43m)\u001b[49m\u001b[38;5;241;43m.\u001b[39;49m\u001b[43mrun_line_magic\u001b[49m\u001b[43m(\u001b[49m\u001b[38;5;124;43m'\u001b[39;49m\u001b[38;5;124;43mrun\u001b[39;49m\u001b[38;5;124;43m'\u001b[39;49m\u001b[43m,\u001b[49m\u001b[43m \u001b[49m\u001b[38;5;124;43m'\u001b[39;49m\u001b[38;5;124;43m: python.exe pip install --upgrade pip\u001b[39;49m\u001b[38;5;124;43m'\u001b[39;49m\u001b[43m)\u001b[49m\n",
      "File \u001b[1;32m~\\AppData\\Local\\Programs\\Python\\Python312\\Lib\\site-packages\\IPython\\core\\interactiveshell.py:2480\u001b[0m, in \u001b[0;36mInteractiveShell.run_line_magic\u001b[1;34m(self, magic_name, line, _stack_depth)\u001b[0m\n\u001b[0;32m   2478\u001b[0m     kwargs[\u001b[38;5;124m'\u001b[39m\u001b[38;5;124mlocal_ns\u001b[39m\u001b[38;5;124m'\u001b[39m] \u001b[38;5;241m=\u001b[39m \u001b[38;5;28mself\u001b[39m\u001b[38;5;241m.\u001b[39mget_local_scope(stack_depth)\n\u001b[0;32m   2479\u001b[0m \u001b[38;5;28;01mwith\u001b[39;00m \u001b[38;5;28mself\u001b[39m\u001b[38;5;241m.\u001b[39mbuiltin_trap:\n\u001b[1;32m-> 2480\u001b[0m     result \u001b[38;5;241m=\u001b[39m \u001b[43mfn\u001b[49m\u001b[43m(\u001b[49m\u001b[38;5;241;43m*\u001b[39;49m\u001b[43margs\u001b[49m\u001b[43m,\u001b[49m\u001b[43m \u001b[49m\u001b[38;5;241;43m*\u001b[39;49m\u001b[38;5;241;43m*\u001b[39;49m\u001b[43mkwargs\u001b[49m\u001b[43m)\u001b[49m\n\u001b[0;32m   2482\u001b[0m \u001b[38;5;66;03m# The code below prevents the output from being displayed\u001b[39;00m\n\u001b[0;32m   2483\u001b[0m \u001b[38;5;66;03m# when using magics with decorator @output_can_be_silenced\u001b[39;00m\n\u001b[0;32m   2484\u001b[0m \u001b[38;5;66;03m# when the last Python token in the expression is a ';'.\u001b[39;00m\n\u001b[0;32m   2485\u001b[0m \u001b[38;5;28;01mif\u001b[39;00m \u001b[38;5;28mgetattr\u001b[39m(fn, magic\u001b[38;5;241m.\u001b[39mMAGIC_OUTPUT_CAN_BE_SILENCED, \u001b[38;5;28;01mFalse\u001b[39;00m):\n",
      "File \u001b[1;32m~\\AppData\\Local\\Programs\\Python\\Python312\\Lib\\site-packages\\IPython\\core\\magics\\execution.py:727\u001b[0m, in \u001b[0;36mExecutionMagics.run\u001b[1;34m(self, parameter_s, runner, file_finder)\u001b[0m\n\u001b[0;32m    725\u001b[0m     \u001b[38;5;28;01mif\u001b[39;00m os\u001b[38;5;241m.\u001b[39mname \u001b[38;5;241m==\u001b[39m \u001b[38;5;124m'\u001b[39m\u001b[38;5;124mnt\u001b[39m\u001b[38;5;124m'\u001b[39m \u001b[38;5;129;01mand\u001b[39;00m re\u001b[38;5;241m.\u001b[39mmatch(\u001b[38;5;124mr\u001b[39m\u001b[38;5;124m\"\u001b[39m\u001b[38;5;124m^\u001b[39m\u001b[38;5;124m'\u001b[39m\u001b[38;5;124m.*\u001b[39m\u001b[38;5;124m'\u001b[39m\u001b[38;5;124m$\u001b[39m\u001b[38;5;124m\"\u001b[39m,fpath):\n\u001b[0;32m    726\u001b[0m         warn(\u001b[38;5;124m'\u001b[39m\u001b[38;5;124mFor Windows, use double quotes to wrap a filename: \u001b[39m\u001b[38;5;132;01m%r\u001b[39;00m\u001b[38;5;124mun \u001b[39m\u001b[38;5;124m\"\u001b[39m\u001b[38;5;124mmypath\u001b[39m\u001b[38;5;130;01m\\\\\u001b[39;00m\u001b[38;5;124mmyfile.py\u001b[39m\u001b[38;5;124m\"\u001b[39m\u001b[38;5;124m'\u001b[39m)\n\u001b[1;32m--> 727\u001b[0m     \u001b[38;5;28;01mraise\u001b[39;00m \u001b[38;5;167;01mException\u001b[39;00m(msg) \u001b[38;5;28;01mfrom\u001b[39;00m \u001b[38;5;21;01me\u001b[39;00m\n\u001b[0;32m    728\u001b[0m \u001b[38;5;28;01mexcept\u001b[39;00m \u001b[38;5;167;01mTypeError\u001b[39;00m:\n\u001b[0;32m    729\u001b[0m     \u001b[38;5;28;01mif\u001b[39;00m fpath \u001b[38;5;129;01min\u001b[39;00m sys\u001b[38;5;241m.\u001b[39mmeta_path:\n",
      "\u001b[1;31mException\u001b[0m: File `':'` not found."
     ]
    }
   ],
   "source": [
    "run: python.exe pip install --upgrade pip"
   ]
  },
  {
   "cell_type": "code",
   "execution_count": 5,
   "id": "7db33614-47c1-4109-a320-9fd517539004",
   "metadata": {},
   "outputs": [
    {
     "name": "stderr",
     "output_type": "stream",
     "text": [
      "C:\\Users\\RakeshRanjanKumar\\AppData\\Local\\Programs\\Python\\Python312\\Lib\\site-packages\\tqdm\\auto.py:21: TqdmWarning: IProgress not found. Please update jupyter and ipywidgets. See https://ipywidgets.readthedocs.io/en/stable/user_install.html\n",
      "  from .autonotebook import tqdm as notebook_tqdm\n"
     ]
    }
   ],
   "source": [
    "from haystack.telemetry import tutorial_running\n",
    "\n",
    "tutorial_running(27)"
   ]
  },
  {
   "cell_type": "markdown",
   "id": "bddcb05b-1ec4-4d57-aca9-888dc8e01b84",
   "metadata": {},
   "source": [
    "from haystack.document_stores.in_memory import InMemoryDocumentStore\n",
    "\n",
    "document_store = InMemoryDocumentStore()"
   ]
  },
  {
   "cell_type": "code",
   "execution_count": 6,
   "id": "edb765d5-a4c9-41d1-885e-a19924049ace",
   "metadata": {},
   "outputs": [],
   "source": [
    "from haystack.document_stores.in_memory import InMemoryDocumentStore\n",
    "\n",
    "document_store = InMemoryDocumentStore()"
   ]
  },
  {
   "cell_type": "code",
   "execution_count": 7,
   "id": "ce22006c-57b2-409a-8c6e-5d2d0ea518b3",
   "metadata": {},
   "outputs": [
    {
     "name": "stderr",
     "output_type": "stream",
     "text": [
      "Generating train split: 100%|███████████████████████████████████████████████| 151/151 [00:00<00:00, 2766.39 examples/s]\n"
     ]
    }
   ],
   "source": [
    "from datasets import load_dataset\n",
    "from haystack import Document\n",
    "\n",
    "dataset = load_dataset(\"bilgeyucel/seven-wonders\", split=\"train\")\n",
    "docs = [Document(content=doc[\"content\"], meta=doc[\"meta\"]) for doc in dataset]\n"
   ]
  },
  {
   "cell_type": "code",
   "execution_count": 8,
   "id": "a77aaf84-4169-4a91-8364-6fd10825a3f0",
   "metadata": {},
   "outputs": [],
   "source": [
    "from haystack.components.embedders import SentenceTransformersDocumentEmbedder\n",
    "\n",
    "doc_embedder = SentenceTransformersDocumentEmbedder(model=\"sentence-transformers/all-MiniLM-L6-v2\")\n",
    "doc_embedder.warm_up()\n"
   ]
  },
  {
   "cell_type": "code",
   "execution_count": 9,
   "id": "9207333f-0b92-4814-9b42-dd548b184d32",
   "metadata": {},
   "outputs": [
    {
     "name": "stderr",
     "output_type": "stream",
     "text": [
      "Batches: 100%|███████████████████████████████████████████████████████████████████████████| 5/5 [00:16<00:00,  3.23s/it]\n"
     ]
    },
    {
     "data": {
      "text/plain": [
       "151"
      ]
     },
     "execution_count": 9,
     "metadata": {},
     "output_type": "execute_result"
    }
   ],
   "source": [
    "docs_with_embeddings = doc_embedder.run(docs)\n",
    "document_store.write_documents(docs_with_embeddings[\"documents\"])\n"
   ]
  },
  {
   "cell_type": "code",
   "execution_count": 10,
   "id": "a057b611-ab51-4b84-bb90-e018ecf7da55",
   "metadata": {},
   "outputs": [],
   "source": [
    "from haystack.components.embedders import SentenceTransformersTextEmbedder\n",
    "\n",
    "text_embedder = SentenceTransformersTextEmbedder(model=\"sentence-transformers/all-MiniLM-L6-v2\")\n"
   ]
  },
  {
   "cell_type": "code",
   "execution_count": 11,
   "id": "3b889e8a-13ab-4abf-b863-0c94126cf999",
   "metadata": {},
   "outputs": [],
   "source": [
    "from haystack.components.retrievers.in_memory import InMemoryEmbeddingRetriever\n",
    "\n",
    "retriever = InMemoryEmbeddingRetriever(document_store)\n"
   ]
  },
  {
   "cell_type": "code",
   "execution_count": 12,
   "id": "33af7ae9-5faa-45dd-9b57-91b189aeca92",
   "metadata": {},
   "outputs": [],
   "source": [
    "from haystack.components.builders import ChatPromptBuilder\n",
    "from haystack.dataclasses import ChatMessage\n",
    "\n",
    "template = [ChatMessage.from_user(\"\"\"\n",
    "Given the following information, answer the question.\n",
    "\n",
    "Context:\n",
    "{% for document in documents %}\n",
    "    {{ document.content }}\n",
    "{% endfor %}\n",
    "\n",
    "Question: {{question}}\n",
    "Answer:\n",
    "\"\"\")]\n",
    "\n",
    "prompt_builder = ChatPromptBuilder(template=template)\n"
   ]
  },
  {
   "cell_type": "code",
   "execution_count": null,
   "id": "a4b1b7a3-23d2-46f7-b9b8-364057a69741",
   "metadata": {},
   "outputs": [],
   "source": [
    "import os\n",
    "from getpass import getpass\n",
    "from haystack.components.generators.chat import OpenAIChatGenerator\n",
    "\n",
    "if \"OPENAI_API_KEY\" not in os.environ:\n",
    "    os.environ[\"OPENAI_API_KEY\"] = getpass(\"Enter OpenAI API key:\")\n",
    "chat_generator = OpenAIChatGenerator(model=\"gpt-4o-mini\")\n"
   ]
  },
  {
   "cell_type": "code",
   "execution_count": null,
   "id": "77ec71a2-a1e8-4f37-a425-f2df924115f1",
   "metadata": {},
   "outputs": [],
   "source": []
  }
 ],
 "metadata": {
  "kernelspec": {
   "display_name": ".venv",
   "language": "python",
   "name": ".venv"
  },
  "language_info": {
   "codemirror_mode": {
    "name": "ipython",
    "version": 3
   },
   "file_extension": ".py",
   "mimetype": "text/x-python",
   "name": "python",
   "nbconvert_exporter": "python",
   "pygments_lexer": "ipython3",
   "version": "3.12.3"
  }
 },
 "nbformat": 4,
 "nbformat_minor": 5
}
