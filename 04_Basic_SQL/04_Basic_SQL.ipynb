{
 "cells": [
  {
   "cell_type": "markdown",
   "id": "b2ee97d6",
   "metadata": {},
   "source": [
    "**What is Data**\n",
    "\n",
    "-> Data is simply a collection or set of values in form of text, words, numbers, pictures audio, or video.\n",
    "\n",
    "-> It is most asset for any organization.\n",
    "\n",
    "**How to store Data?**\n",
    "\n",
    "- Traditional way - on papers\n",
    "- File system\n",
    "- Databases\n",
    "\n",
    "*File System*\n",
    "\n",
    "    - Drawbacks \n",
    "        1. Data redundacy\n",
    "        2. Inconcistency\n",
    "        3. No concurrent access\n",
    "        4. No relationship between multiple files\n",
    "        5. No backup and recovery\n",
    "        and so on.\n",
    "\n",
    "*Databases*\n",
    "- It is an organized collections or repository of our data.\n",
    "- It is collection of interrelated data which helps in efficient retrieval, insertion, and deletion of data.\n",
    "- Users can perform different queries in order to perform actions based on their requirement.\n",
    "\n",
    "***DBMS***\n",
    "- Database Management System\n",
    "- DBMS is an application which is used to maintain or manage databases\n",
    "- E.g. Oracle, sybase, Microsoft SQL serve etc\n",
    "\n",
    " *Types of DBMS*\n",
    " 1. Hierarchical DBMS\n",
    " 2. Network DBMS\n",
    " 3. Relational DBMS\n",
    " 4. Object oriented DBMS\n",
    " \n",
    " ---\n",
    " \n",
    " **Relational Databases**\n",
    " \n",
    " - A relationa; database is a sepecific types of database that stores everything in reations or table.\n",
    " - Tables have different row and colums."
   ]
  },
  {
   "cell_type": "markdown",
   "id": "9248302f",
   "metadata": {},
   "source": [
    "*RDBMS*\n",
    "    "
   ]
  },
  {
   "cell_type": "code",
   "execution_count": null,
   "id": "ddb616c8",
   "metadata": {},
   "outputs": [],
   "source": []
  }
 ],
 "metadata": {
  "kernelspec": {
   "display_name": "Python 3 (ipykernel)",
   "language": "python",
   "name": "python3"
  },
  "language_info": {
   "codemirror_mode": {
    "name": "ipython",
    "version": 3
   },
   "file_extension": ".py",
   "mimetype": "text/x-python",
   "name": "python",
   "nbconvert_exporter": "python",
   "pygments_lexer": "ipython3",
   "version": "3.9.12"
  }
 },
 "nbformat": 4,
 "nbformat_minor": 5
}
