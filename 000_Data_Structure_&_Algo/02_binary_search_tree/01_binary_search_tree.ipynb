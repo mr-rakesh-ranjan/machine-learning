{
 "cells": [
  {
   "cell_type": "markdown",
   "id": "2d8ed7f8-0c5f-424f-8a5c-2268453b2993",
   "metadata": {},
   "source": [
    "## Problem \n",
    "\n",
    "> **Question 1:** As a backend engineer, you are tasked with developing a fast in-memor data structure to manage profile information(username, email, and name) for 100 miilion users. It should allow the following operations to be performed efficiently.\n",
    ">\n",
    "> 1. **Insert** the profile for new user\n",
    "> 2. **Find** the profile info a user, given by their username\n",
    "> 3. **Update** the profile info of a user, given their username\n",
    "> 4. **List** the users of the platform, sorted by username\n",
    ">\n",
    "> You can assume that usernames are unique.\n",
    "\n",
    "#### Basic of python class\n",
    "> - A python *class* would be a great way represent the information for a user.\n",
    "> - A *class* is a blueprint for creating *objects*.\n",
    "> - Everything in Python is an *object* belonging to some class.\n"
   ]
  },
  {
   "cell_type": "code",
   "execution_count": 1,
   "id": "7940a033-a97c-4db4-ac4a-90a09d302c79",
   "metadata": {},
   "outputs": [],
   "source": [
    "# Define class\n",
    "class User:\n",
    "    # constructor method to the class to store some attributes or properties.\n",
    "    def __init__(self, username, name, email):\n",
    "        self.username = username\n",
    "        self.name = name\n",
    "        self.email = email\n",
    "        print(\"user created\")\n",
    "\n",
    "    def __repr__(self):\n",
    "        return f\"User(username={self.username}, name={self.name}, email={self.email})\"\n",
    "\n",
    "    def __str__(self):\n",
    "        return self.__repr__()"
   ]
  },
  {
   "cell_type": "code",
   "execution_count": 2,
   "id": "3d9a24e1-184a-4f7d-bf82-1c7d2ee401cb",
   "metadata": {},
   "outputs": [
    {
     "name": "stdout",
     "output_type": "stream",
     "text": [
      "user created\n"
     ]
    }
   ],
   "source": [
    "user1 = User('john', 'John Doe', 'john@doe.com')"
   ]
  },
  {
   "cell_type": "code",
   "execution_count": 3,
   "id": "166534bf-f58a-4cf7-baf1-53185f9cac47",
   "metadata": {},
   "outputs": [
    {
     "data": {
      "text/plain": [
       "User(username=john, name=John Doe, email=john@doe.com)"
      ]
     },
     "execution_count": 3,
     "metadata": {},
     "output_type": "execute_result"
    }
   ],
   "source": [
    "user1"
   ]
  },
  {
   "cell_type": "markdown",
   "id": "b1eb47d1-fc79-43b8-ac37-89a4627081db",
   "metadata": {},
   "source": [
    "###### Python internally works as-\n",
    "\n",
    "- Python creates an empty object of the type user and stores in the variable `user1`\n",
    "- Python then invokes the function `User.__init__` with the arguments `user1`, `\"john\"`, `\"John Doe\"` and `\"john@doe.com\"`\n",
    "- As the `__init__` function is excuted, the properties `username`, `name`, and `email` are set to the object `user1`.\n",
    "\n",
    "*We can access the properties of the object using the `.` notation.*"
   ]
  },
  {
   "cell_type": "code",
   "execution_count": 4,
   "id": "27415a6f-3abd-4390-adfa-f2376a60862b",
   "metadata": {},
   "outputs": [
    {
     "data": {
      "text/plain": [
       "'John Doe'"
      ]
     },
     "execution_count": 4,
     "metadata": {},
     "output_type": "execute_result"
    }
   ],
   "source": [
    "user1.name"
   ]
  },
  {
   "cell_type": "code",
   "execution_count": 5,
   "id": "a63e079d-82b6-47aa-9eff-e0705d24187c",
   "metadata": {},
   "outputs": [],
   "source": [
    "class UserDatabase:\n",
    "    def insert(self, user):\n",
    "        pass\n",
    "\n",
    "    def find(self, username):\n",
    "        pass\n",
    "\n",
    "    def update(self, user):\n",
    "        pass\n",
    "\n",
    "    def list_all(self):\n",
    "        pass\n",
    "\n"
   ]
  },
  {
   "cell_type": "markdown",
   "id": "2832a736-07b4-4913-968c-2da09714a5ae",
   "metadata": {},
   "source": [
    "- Some senarios for testing above methods\n",
    "--- \n",
    "1. Insert\n",
    "> - Loop through the list and add the user at a position that keeps the list in sorted.\n",
    "\n",
    "2. Find\n",
    "> - Loop thorugh the list and find the user object with the username matching the query\n",
    "\n",
    "3. Update\n",
    "> - Loop through the list, find the user object matching the query and update the details\n",
    "\n",
    "4. List\n",
    "> - Return the list of the users\n"
   ]
  },
  {
   "cell_type": "code",
   "execution_count": 6,
   "id": "834345f0-3066-4f7a-94f5-f7b667339570",
   "metadata": {},
   "outputs": [],
   "source": [
    "# Implementations of above class\n",
    "class UserDatabase:\n",
    "    def __init__(self):\n",
    "        self.users = []\n",
    "\n",
    "    def insert(self, user):\n",
    "        i = 0\n",
    "        while i < len(self.users):\n",
    "            if self.users[i].username > user.username:\n",
    "                break\n",
    "            i += 1\n",
    "        self.users.insert(i, user)\n",
    "        print(\"user inserted\")\n",
    "\n",
    "    def find(self, username):\n",
    "        for user in self.users:\n",
    "            if user.username == username:\n",
    "                return user\n",
    "        return \"User not found\"\n",
    "\n",
    "    def update(self, user):\n",
    "        target = self.find(user.username)\n",
    "        target.name, target.email = user.name, user.email\n",
    "\n",
    "    def find_all(self):\n",
    "        return self.users"
   ]
  },
  {
   "cell_type": "code",
   "execution_count": 7,
   "id": "4a1ef250-1770-47a6-a7ff-3306fa673a64",
   "metadata": {},
   "outputs": [
    {
     "name": "stdout",
     "output_type": "stream",
     "text": [
      "user created\n",
      "user created\n",
      "user created\n"
     ]
    }
   ],
   "source": [
    "akash = User('akash', 'Akash singh', 'akash@eg.in')\n",
    "tilak = User('tilak', 'Tilak verma', 'tilak@eg.in')\n",
    "shubh = User('subh', 'Shubh Roy', 'roy@eg.in')"
   ]
  },
  {
   "cell_type": "code",
   "execution_count": 8,
   "id": "23b8391a-ffab-4ca0-9431-9099a9b17423",
   "metadata": {},
   "outputs": [],
   "source": [
    "users = [akash, tilak, shubh]"
   ]
  },
  {
   "cell_type": "code",
   "execution_count": 9,
   "id": "1ed0644b-fa48-4ae3-9ea5-db8e3ae2fc68",
   "metadata": {},
   "outputs": [
    {
     "data": {
      "text/plain": [
       "[User(username=akash, name=Akash singh, email=akash@eg.in),\n",
       " User(username=tilak, name=Tilak verma, email=tilak@eg.in),\n",
       " User(username=subh, name=Shubh Roy, email=roy@eg.in)]"
      ]
     },
     "execution_count": 9,
     "metadata": {},
     "output_type": "execute_result"
    }
   ],
   "source": [
    "users"
   ]
  },
  {
   "cell_type": "code",
   "execution_count": 10,
   "id": "4f5de04a-4390-4627-a827-372892cb6318",
   "metadata": {},
   "outputs": [],
   "source": [
    "# create object of database\n",
    "database = UserDatabase()\n"
   ]
  },
  {
   "cell_type": "code",
   "execution_count": 11,
   "id": "53e07399-5229-4cc1-9546-c3a14df4df1c",
   "metadata": {},
   "outputs": [
    {
     "name": "stdout",
     "output_type": "stream",
     "text": [
      "user inserted\n",
      "user inserted\n"
     ]
    }
   ],
   "source": [
    "database.insert(akash)\n",
    "database.insert(shubh)"
   ]
  },
  {
   "cell_type": "code",
   "execution_count": 12,
   "id": "26e4220b-6b68-4cd1-972c-a85a926b8a0e",
   "metadata": {},
   "outputs": [
    {
     "data": {
      "text/plain": [
       "[User(username=akash, name=Akash singh, email=akash@eg.in),\n",
       " User(username=subh, name=Shubh Roy, email=roy@eg.in)]"
      ]
     },
     "execution_count": 12,
     "metadata": {},
     "output_type": "execute_result"
    }
   ],
   "source": [
    "database.find_all()"
   ]
  },
  {
   "cell_type": "code",
   "execution_count": 13,
   "id": "6111368d-c616-40b5-886a-5c55796e3023",
   "metadata": {},
   "outputs": [
    {
     "name": "stdout",
     "output_type": "stream",
     "text": [
      "user inserted\n"
     ]
    }
   ],
   "source": [
    "database.insert(tilak)"
   ]
  },
  {
   "cell_type": "code",
   "execution_count": 14,
   "id": "87106182-cd80-483b-8e2a-43037bb57f13",
   "metadata": {},
   "outputs": [
    {
     "data": {
      "text/plain": [
       "[User(username=akash, name=Akash singh, email=akash@eg.in),\n",
       " User(username=subh, name=Shubh Roy, email=roy@eg.in),\n",
       " User(username=tilak, name=Tilak verma, email=tilak@eg.in)]"
      ]
     },
     "execution_count": 14,
     "metadata": {},
     "output_type": "execute_result"
    }
   ],
   "source": [
    "database.find_all()"
   ]
  },
  {
   "cell_type": "code",
   "execution_count": 15,
   "id": "956e2c9f-bbe5-471d-9526-f4b38b06c028",
   "metadata": {},
   "outputs": [
    {
     "name": "stdout",
     "output_type": "stream",
     "text": [
      "user created\n"
     ]
    }
   ],
   "source": [
    "babu = User('babu3', 'Babu Jha', 'babu3@jha.ai')"
   ]
  },
  {
   "cell_type": "code",
   "execution_count": 16,
   "id": "718000bd-7976-4beb-8b2c-e36bdb8a5afb",
   "metadata": {},
   "outputs": [
    {
     "name": "stdout",
     "output_type": "stream",
     "text": [
      "user inserted\n"
     ]
    }
   ],
   "source": [
    "database.insert(babu)"
   ]
  },
  {
   "cell_type": "code",
   "execution_count": 17,
   "id": "6d790e6a-86b7-4700-ba45-125dd5bc804a",
   "metadata": {},
   "outputs": [
    {
     "data": {
      "text/plain": [
       "[User(username=akash, name=Akash singh, email=akash@eg.in),\n",
       " User(username=babu3, name=Babu Jha, email=babu3@jha.ai),\n",
       " User(username=subh, name=Shubh Roy, email=roy@eg.in),\n",
       " User(username=tilak, name=Tilak verma, email=tilak@eg.in)]"
      ]
     },
     "execution_count": 17,
     "metadata": {},
     "output_type": "execute_result"
    }
   ],
   "source": [
    "database.find_all()"
   ]
  },
  {
   "cell_type": "markdown",
   "id": "8a10933e-4d36-4ab0-9dad-26f71ed6668e",
   "metadata": {},
   "source": [
    "## Analyze the algo\n",
    "\n",
    "1. Insert: **O(N)**\n",
    "2. Find: **O(N)**\n",
    "3. Update: **O(N)**\n",
    "4. List: **O(1)**"
   ]
  },
  {
   "cell_type": "markdown",
   "id": "1b6e54f1-c911-4ec1-8e91-c3985a9004ae",
   "metadata": {},
   "source": [
    "## Overcome the inefficiency of above Algorithms by using Binary Tree\n",
    "\n",
    "**Binary Tree** is a *non-linear and hierarchical* data structure where each node has at most two children referred to as the *left child* and the *right child*. The topmost node in a binary tree is called the *root*, and the bottom-most nodes are called *leaves*.\n",
    "\n",
    "> 1. The word \"binary\" indicates that each \"node\" in the tree can have at most 2 children(left or right)\n",
    "> 2. Node can have 0, 1 or 2 children. Nodes that do not have any children are sometimes also called \"leaves\".\n",
    "> 3. The single node at the top is called the \"root\" node, and it typically where operations like search, insertion etc. begin.\n",
    "\n",
    "#### Balanced Binary Search tree\n",
    "\n",
    "1. **Keys and Values:** Each node of the tree stores a key(username) and a values(`User` object). *A binary tree where nodes have both key and value is often reffered as a **map** or **treemap** (bacuse it maps keys to values).*\n",
    "2. **Binary Search Tree:** The *left subtree* of any node onl contains nodes with keys that are lexicographically smaller than the node's key and the *right subtree* of any node only contains nodes with keys that lexicographically larger than the node's key. A tree that satisfies this property is called a **binary search trees**, and it's easy to locate a specfic key by traversing a single path down from the root node.\n",
    "3. **Balanced Tree:** The tree is balanced i.e it does not skew too heavily to one side or the other. The left and right subtrees of any node shouldn't differ in height/depth by more than 1 level.\n",
    "\n",
    "\n",
    "##### Height of binary tree\n",
    "\n",
    "For a tree of height `k`, number of nodes at each level\n",
    "\n",
    "Level 0: `1`\n",
    "\n",
    "Level 1: `2`\n",
    "\n",
    "Level 2: `4` i.e. `2^2`\n",
    "\n",
    "Level 3: `8` i.e. `2^3`\n",
    "\n",
    "...\n",
    "\n",
    "Level k-1: `2^(k-1)`\n",
    "\n",
    "If the total number of nodes in the tree is `N`, then \n",
    "\n",
    "    N = 1 + 2^1 + 2^2 + 2^3 + ... + 2^(k-1)\n",
    "\n",
    "  => `N+1 = 2^1 + 2^1 + 2^2 + 2^3 + ... + 2^(k-1)`\n",
    "\n",
    "  ...\n",
    "  \n",
    "  => `N+1 = 2^(k-1) + 2^(k-1)`\n",
    "\n",
    "  => `N+1 = 2^k`\n",
    "  \n",
    "  => `k = log(N + 1) <= log(N) + 1`\n",
    "\n",
    "> **Conclusion:** To store `N` records we require a balanced BST of height no larger than `log(N) + 1`.\n",
    "> The `insert`, `find` and `update` operations in balanced BST have time complexity `O(log N)`"
   ]
  },
  {
   "cell_type": "markdown",
   "id": "bf1ba7a7-f7ed-4d84-a535-c62329f2397e",
   "metadata": {},
   "source": [
    "# Binary Tree\n",
    "> **Question 2:** Implement a binary tree using Python, and show some its usages with some examples"
   ]
  },
  {
   "cell_type": "code",
   "execution_count": 18,
   "id": "54990d80-c9b8-4dfa-87b7-f41331dd31e1",
   "metadata": {},
   "outputs": [],
   "source": [
    "# Implementations\n",
    "\n",
    "class TreeNode:\n",
    "    def __init__(self, key):\n",
    "        self.key = key\n",
    "        self.left = None\n",
    "        self.right = None"
   ]
  },
  {
   "cell_type": "code",
   "execution_count": 19,
   "id": "a0b6b446-5ae5-4537-b26a-41aa98ea7d4d",
   "metadata": {},
   "outputs": [],
   "source": [
    "node0 = TreeNode(3)\n",
    "node1 = TreeNode(4)\n",
    "node2 = TreeNode(5)"
   ]
  },
  {
   "cell_type": "code",
   "execution_count": 20,
   "id": "33bfeef7-8672-456e-878a-5a2173214ee4",
   "metadata": {},
   "outputs": [
    {
     "data": {
      "text/plain": [
       "<__main__.TreeNode at 0x1a5fd3c7fd0>"
      ]
     },
     "execution_count": 20,
     "metadata": {},
     "output_type": "execute_result"
    }
   ],
   "source": [
    "node0.left = node1\n",
    "node0.right = node2\n",
    "tree = node0\n",
    "tree"
   ]
  },
  {
   "cell_type": "code",
   "execution_count": 21,
   "id": "d1c92d43-509f-46ed-987b-7e3aba08dc3b",
   "metadata": {},
   "outputs": [
    {
     "data": {
      "text/plain": [
       "3"
      ]
     },
     "execution_count": 21,
     "metadata": {},
     "output_type": "execute_result"
    }
   ],
   "source": [
    "tree.key"
   ]
  },
  {
   "cell_type": "code",
   "execution_count": 22,
   "id": "7af64c48-c35c-49ef-bfe7-7d8a6036113e",
   "metadata": {},
   "outputs": [
    {
     "data": {
      "text/plain": [
       "4"
      ]
     },
     "execution_count": 22,
     "metadata": {},
     "output_type": "execute_result"
    }
   ],
   "source": [
    "tree.left.key"
   ]
  },
  {
   "cell_type": "code",
   "execution_count": 23,
   "id": "e8cc3d89-d42c-4126-b4bc-f6bdcc3d27d5",
   "metadata": {},
   "outputs": [
    {
     "data": {
      "text/plain": [
       "5"
      ]
     },
     "execution_count": 23,
     "metadata": {},
     "output_type": "execute_result"
    }
   ],
   "source": [
    "tree.right.key"
   ]
  },
  {
   "cell_type": "markdown",
   "id": "89c66438-d16a-4ae1-81c0-2076cdd398a5",
   "metadata": {},
   "source": [
    "We have to implement this.\n",
    "![title](./IMG/tree1.png)\n",
    "\n",
    "For implementing the above tree define a helper function `parse_tuple` structure `(left_subtree, key, right_subtree)` where `left_subtree` and `right_subtree` are themselves tuples) into binary tree."
   ]
  },
  {
   "cell_type": "code",
   "execution_count": 24,
   "id": "dd2f2ae4-ab4d-4627-be02-d30376c602f4",
   "metadata": {},
   "outputs": [],
   "source": [
    "tree_tuple = ((1,3,None), 2, ((None,3,4), 5, (6,7,8)))"
   ]
  },
  {
   "cell_type": "code",
   "execution_count": 25,
   "id": "6fee689f-7c70-48cd-b365-f2d40a731e88",
   "metadata": {},
   "outputs": [],
   "source": [
    "def parse_tuple(data):\n",
    "    if isinstance(data, tuple) and len(data) == 3:\n",
    "        node = TreeNode(data[1])\n",
    "        node.left = parse_tuple(data[0])\n",
    "        node.right = parse_tuple(data[2])\n",
    "    elif data is None:\n",
    "        node = None\n",
    "    else:\n",
    "        node = TreeNode(data)\n",
    "    return node\n",
    "        "
   ]
  },
  {
   "cell_type": "code",
   "execution_count": 26,
   "id": "53fe919c-d2f2-4e3b-93aa-a100154b2441",
   "metadata": {},
   "outputs": [],
   "source": [
    "tree_t = parse_tuple(tree_tuple)"
   ]
  },
  {
   "cell_type": "code",
   "execution_count": 27,
   "id": "f803a471-8c11-494b-ae9c-bd461b7120e9",
   "metadata": {},
   "outputs": [
    {
     "data": {
      "text/plain": [
       "2"
      ]
     },
     "execution_count": 27,
     "metadata": {},
     "output_type": "execute_result"
    }
   ],
   "source": [
    "tree_t.key"
   ]
  },
  {
   "cell_type": "code",
   "execution_count": 28,
   "id": "21f16b2b-4c7f-4b02-80ef-426fe990269f",
   "metadata": {},
   "outputs": [
    {
     "data": {
      "text/plain": [
       "(3, 5)"
      ]
     },
     "execution_count": 28,
     "metadata": {},
     "output_type": "execute_result"
    }
   ],
   "source": [
    "tree_t.left.key, tree_t.right.key"
   ]
  },
  {
   "cell_type": "markdown",
   "id": "826e1e82-80ac-4aba-be81-970951d023ba",
   "metadata": {},
   "source": [
    "**Execise:** Define a function `tree_to_tuple` that converts a binary tree into a tuple representing the same tree. Using recursion."
   ]
  },
  {
   "cell_type": "code",
   "execution_count": 29,
   "id": "9cab9779-f4af-4a5a-83a1-a6c71364421a",
   "metadata": {},
   "outputs": [],
   "source": [
    "def tree_to_tuple(node):\n",
    "    pass"
   ]
  },
  {
   "cell_type": "code",
   "execution_count": null,
   "id": "eb19f406-6729-452c-83ac-8a7c442fff81",
   "metadata": {},
   "outputs": [],
   "source": []
  },
  {
   "cell_type": "markdown",
   "id": "f1b5baed-fc4d-46d7-bd38-45a43ba92842",
   "metadata": {},
   "source": [
    "Create a helper function to display all the keys in a tree like structure for easier visualization."
   ]
  },
  {
   "cell_type": "code",
   "execution_count": 32,
   "id": "c3ce627f-89cf-45b9-b18b-855dc2d43106",
   "metadata": {},
   "outputs": [],
   "source": [
    "def display_keys(node, space='\\t', level=0):\n",
    "    # print(node.key if node else None, level)\n",
    "    # If node is empty\n",
    "    if node is None:\n",
    "        print(space*level + 'Ø')\n",
    "        return\n",
    "\n",
    "    # if node is a leaf\n",
    "    if node.left is None and node.right is None:\n",
    "        print(space*level + str(node.key))\n",
    "        return\n",
    "\n",
    "    # if node has children\n",
    "    display_keys(node.right, space, level+1)\n",
    "    print(space*level + str(node.key))\n",
    "    display_keys(node.left, space, level+1)"
   ]
  },
  {
   "cell_type": "code",
   "execution_count": 33,
   "id": "95b1570f-57e5-494c-aa8f-3beb23aea96a",
   "metadata": {},
   "outputs": [
    {
     "name": "stdout",
     "output_type": "stream",
     "text": [
      "\t\t\t8\n",
      "\t\t7\n",
      "\t\t\t6\n",
      "\t5\n",
      "\t\t\t4\n",
      "\t\t3\n",
      "\t\t\tØ\n",
      "2\n",
      "\t\tØ\n",
      "\t3\n",
      "\t\t1\n"
     ]
    }
   ],
   "source": [
    "display_keys(tree_t)"
   ]
  },
  {
   "cell_type": "markdown",
   "id": "791aad2e-e19c-4448-b002-34f09b9a24e3",
   "metadata": {},
   "source": [
    "## Traversing a Binary Tree\n",
    "> **Question 3:** Write a function to perform the *inorder* traversal of binary tree.\n",
    "> \n",
    "> **Question 4:** Write a function to perform the *preorder* traversal of binary tree.\n",
    "> \n",
    "> **question 5:** Write a function to perform the *postorder* traversal of binary tree.\n",
    "\n",
    "A *traversal* refers to the process of visiting each node of a tree exactly once. *Visiting a node generally refers to assing the node's key to a list.*\n",
    "\n",
    "### Inorder traversal\n",
    "1. Traverse the left subtree recursively inorder.\n",
    "2. Traverse the current node.\n",
    "3. Traverse the right subtree recursively inorder.\n",
    "\n",
    "![title](./IMG/inorder.png)\n",
    "\n",
    "### Preorder traversal\n",
    "1. Traverse the current node.\n",
    "2. Traverse the left subtree recursively preorder.\n",
    "3. Traverse the right subtree recursively preorder.\n",
    "\n",
    "![title](./IMG/preorder.png)"
   ]
  },
  {
   "cell_type": "code",
   "execution_count": null,
   "id": "afd8b20b-7e6e-49d5-922c-a5066854c262",
   "metadata": {},
   "outputs": [],
   "source": []
  }
 ],
 "metadata": {
  "kernelspec": {
   "display_name": "Python 3 (ipykernel)",
   "language": "python",
   "name": "python3"
  },
  "language_info": {
   "codemirror_mode": {
    "name": "ipython",
    "version": 3
   },
   "file_extension": ".py",
   "mimetype": "text/x-python",
   "name": "python",
   "nbconvert_exporter": "python",
   "pygments_lexer": "ipython3",
   "version": "3.11.7"
  }
 },
 "nbformat": 4,
 "nbformat_minor": 5
}
