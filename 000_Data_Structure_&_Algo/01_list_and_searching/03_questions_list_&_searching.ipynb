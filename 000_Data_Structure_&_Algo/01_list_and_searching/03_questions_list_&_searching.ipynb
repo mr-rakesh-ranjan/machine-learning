{
 "cells": [
  {
   "cell_type": "markdown",
   "id": "ee93de1c-da61-41ac-8936-1f434c5b6817",
   "metadata": {},
   "source": [
    "> **Question:** Given an array of integers nums sorted in ascending order, find the starting and ending postion of a given number.\n",
    "\n"
   ]
  },
  {
   "cell_type": "code",
   "execution_count": 1,
   "id": "86993bd6-ae9e-4e79-838e-c767bab753b1",
   "metadata": {},
   "outputs": [],
   "source": [
    "def generic_binary_search(lo, hi, condition):\n",
    "    while lo <= hi:\n",
    "        mid = (lo + hi) // 2\n",
    "        res = condition(mid)\n",
    "        if res == 'found':\n",
    "            return mid\n",
    "        elif res == 'left':\n",
    "            hi = mid - 1\n",
    "        else:\n",
    "            lo = mid + 1\n",
    "    return -1"
   ]
  },
  {
   "cell_type": "code",
   "execution_count": 2,
   "id": "33d30d36-1679-429c-900d-ddff99a0682b",
   "metadata": {},
   "outputs": [],
   "source": [
    "def locate_card(cards, query):\n",
    "    def condition(mid):\n",
    "        if cards[mid] == query:\n",
    "            if mid > 0 and cards[mid-1] == query:\n",
    "                return 'left'\n",
    "            else:\n",
    "                return 'found'\n",
    "        elif cards[mid] < query:\n",
    "            return 'left'\n",
    "        else:\n",
    "            return 'right'\n",
    "    return generic_binary_search(0, len(cards) -1, condition)"
   ]
  },
  {
   "cell_type": "code",
   "execution_count": 3,
   "id": "7f733678-04fd-4540-ab66-d10a989a1883",
   "metadata": {},
   "outputs": [
    {
     "data": {
      "text/plain": [
       "2"
      ]
     },
     "execution_count": 3,
     "metadata": {},
     "output_type": "execute_result"
    }
   ],
   "source": [
    "arr = [8,8,6,6,6,6,6,6,3,3,2,2,2,0,0]\n",
    "query = 6\n",
    "locate_card(arr, query)"
   ]
  },
  {
   "cell_type": "code",
   "execution_count": 4,
   "id": "6d5be8f4-0950-45ba-a22a-4876d920f057",
   "metadata": {},
   "outputs": [
    {
     "data": {
      "text/plain": [
       "2"
      ]
     },
     "execution_count": 4,
     "metadata": {},
     "output_type": "execute_result"
    }
   ],
   "source": [
    "arr1 = [8, 8, 6,6,6,6,6,6,3,2,2,2,0,0,0]\n",
    "q1 = 6\n",
    "locate_card(arr1, q1)"
   ]
  },
  {
   "cell_type": "markdown",
   "id": "35430757-7998-4232-83f3-aef08434c96f",
   "metadata": {},
   "source": [
    "#### Solution of asked question "
   ]
  },
  {
   "cell_type": "code",
   "execution_count": 7,
   "id": "70c3b352-f842-4e1b-b7f2-728a8f8403ae",
   "metadata": {},
   "outputs": [],
   "source": [
    "def first_position(nums, target):\n",
    "    def condition(mid):\n",
    "        if nums[mid] == target:\n",
    "            if mid > 0 and nums[mid-1] == target:\n",
    "                return 'left'\n",
    "            return 'found'\n",
    "        elif nums[mid] < target:\n",
    "            return 'right'\n",
    "        else:\n",
    "            return 'left'\n",
    "    return generic_binary_search(0, len(nums)-1, condition)\n",
    "\n",
    "def last_position(nums, target):\n",
    "    def condition(mid):\n",
    "        if nums[mid] == target:\n",
    "            if mid < len(nums)-1 and nums[mid+1] == target:\n",
    "                return 'right'\n",
    "            return 'found'\n",
    "        elif nums[mid] < target:\n",
    "            return 'right'\n",
    "        else:\n",
    "            return 'left'\n",
    "    return generic_binary_search(0, len(nums)-1, condition)\n",
    "\n",
    "def first_and_last_position(nums, target):\n",
    "    return first_position(nums, target), last_position(nums, target)"
   ]
  },
  {
   "cell_type": "code",
   "execution_count": 17,
   "id": "29738bfe-b7b5-4418-aadc-caa1dcb78c2c",
   "metadata": {},
   "outputs": [
    {
     "data": {
      "text/plain": [
       "(-1, 7)"
      ]
     },
     "execution_count": 17,
     "metadata": {},
     "output_type": "execute_result"
    }
   ],
   "source": [
    "first_and_last_position([8, 8, 6,6,6,6,6,6,3,2,2,2,0,0,0], 6)"
   ]
  },
  {
   "cell_type": "markdown",
   "id": "5c0d035e-3f15-41c2-9ae3-57ad81ee1b69",
   "metadata": {},
   "source": [
    "## Problem - Rotated Lists\n",
    "\n",
    "> You are given list of numbers, obtained by rotating a sorted list an unknown number of times. Write a function to determine the minimum number of times the original sorted list was rotated to obtain the given list. Function should be worst-case complexity `O(log N)`; N = length of the list.\n",
    ">\n",
    "> E.g. `nums = [5,6,9,0,2,3,4]` after how many rotation we'll get `[0,2,3,4,5,6,9]` i.e. 3 times.\n",
    ">\n",
    "> **Rotating a list** is removing the last element of the list and adding it before teh first element."
   ]
  },
  {
   "cell_type": "code",
   "execution_count": 21,
   "id": "3b3eeb96-242b-4fff-bc29-58a0260d7b2a",
   "metadata": {},
   "outputs": [],
   "source": [
    "# Given a rotated sorted list that was rotated some unknown number of times, we need to find the minimum number of times it was rotated. \n",
    "\n",
    "#  Brute-force solution\n",
    "def rotating_list(nums):\n",
    "    pos = 0\n",
    "    while pos < len(nums):\n",
    "        if pos > 0 and nums[pos] < nums[pos-1]:\n",
    "            return pos\n",
    "        pos += 1\n",
    "    return 0\n",
    "    \n",
    "# time complexity: O(N)\n",
    "# space complexity: O(1)"
   ]
  },
  {
   "cell_type": "code",
   "execution_count": 22,
   "id": "5f006315-280e-4447-8db7-9c88128c4801",
   "metadata": {},
   "outputs": [
    {
     "data": {
      "text/plain": [
       "3"
      ]
     },
     "execution_count": 22,
     "metadata": {},
     "output_type": "execute_result"
    }
   ],
   "source": [
    "nums = [5,6,9,0,2,3,4]\n",
    "rotating_list(nums)"
   ]
  },
  {
   "cell_type": "code",
   "execution_count": 23,
   "id": "53f11daa-dfe3-4e3f-9e32-c0a37e8ba92a",
   "metadata": {},
   "outputs": [],
   "source": [
    "# Optimisation the above solution using binary search\n",
    "\n",
    "def count_rotate_binary(nums):\n",
    "    lo, hi = 0, len(nums)-1\n",
    "    while lo < hi:\n",
    "        mid = (lo + hi) // 2\n",
    "        mid_num = nums[mid]\n",
    "        if mid > 0 and mid_num == "
   ]
  },
  {
   "cell_type": "code",
   "execution_count": null,
   "id": "1ed446dd-1dac-4f14-956f-287a87f390cc",
   "metadata": {},
   "outputs": [],
   "source": []
  }
 ],
 "metadata": {
  "kernelspec": {
   "display_name": "Python 3 (ipykernel)",
   "language": "python",
   "name": "python3"
  },
  "language_info": {
   "codemirror_mode": {
    "name": "ipython",
    "version": 3
   },
   "file_extension": ".py",
   "mimetype": "text/x-python",
   "name": "python",
   "nbconvert_exporter": "python",
   "pygments_lexer": "ipython3",
   "version": "3.11.7"
  }
 },
 "nbformat": 4,
 "nbformat_minor": 5
}
