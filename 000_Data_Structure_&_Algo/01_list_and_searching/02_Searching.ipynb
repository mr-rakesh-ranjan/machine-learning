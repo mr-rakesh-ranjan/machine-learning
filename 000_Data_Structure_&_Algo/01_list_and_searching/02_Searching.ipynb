{
 "cells": [
  {
   "cell_type": "markdown",
   "id": "a31b36e4-5132-4a97-9812-2d0fff9768fa",
   "metadata": {},
   "source": [
    "## Algorithms - It is simply a list of statements which can be converted into code and executed by computer on different sets of inputs.\n",
    "\n",
    "### Searching - It is technique to find something in something.\n",
    "    1. Linear Search\n",
    "    2. Binary Search\n",
    "    3. \n",
    "    "
   ]
  },
  {
   "cell_type": "markdown",
   "id": "3b937a2a-df30-403f-81f8-6bfa0909c318",
   "metadata": {},
   "source": [
    "## 1. Linear Seacrch Algorithms\n",
    "    It involves searching through a list in a linear fashion i.e. element after element"
   ]
  },
  {
   "cell_type": "code",
   "execution_count": 2,
   "id": "a4ada371-6e8e-40a7-9b0b-790d88fc50bf",
   "metadata": {},
   "outputs": [],
   "source": [
    "def linear_search(arr, query):\n",
    "    position = 0\n",
    "    while position < len(arr):\n",
    "        if arr[position] == query:\n",
    "            return position\n",
    "        position += 1\n",
    "    return -1\n",
    "        "
   ]
  },
  {
   "cell_type": "code",
   "execution_count": 3,
   "id": "ed055305-5089-438e-be78-56ecc639a5d2",
   "metadata": {},
   "outputs": [],
   "source": [
    "test = {\n",
    "    'input' : {\n",
    "        'arr' : [13, 11, 10, 7, 4,3,1,0],\n",
    "        'query' : 7\n",
    "    }, \n",
    "    'output' : 3\n",
    "}"
   ]
  },
  {
   "cell_type": "code",
   "execution_count": 4,
   "id": "39fcb883-4b46-4ca8-8e2e-fd55ec6e4305",
   "metadata": {},
   "outputs": [
    {
     "data": {
      "text/plain": [
       "3"
      ]
     },
     "execution_count": 4,
     "metadata": {},
     "output_type": "execute_result"
    }
   ],
   "source": [
    "result = linear_search(**test['input'])\n",
    "result"
   ]
  },
  {
   "cell_type": "code",
   "execution_count": 5,
   "id": "f0acd96e-9a1d-47df-b070-d69b93a9074b",
   "metadata": {},
   "outputs": [],
   "source": [
    "# The time complexcity of above algo - O(N) where N is length of array/list\n",
    "# The space complexity of above algo - O(1) "
   ]
  },
  {
   "cell_type": "markdown",
   "id": "fa423be7-144e-4e84-8082-8e61ef836729",
   "metadata": {},
   "source": [
    "# Analysis of Algorithms\n",
    "\n",
    "## Complexity and Big O Notation\n",
    "\n",
    "__Complexity__ of an algorithm is a measure of the amount of time and/or space required by an algorithm for an input of a given size e.g. _N_ .\n",
    "\n",
    "- Worst-case complexity means _highest possible time/space_\n",
    "\n",
    "In the case of linear search: \n",
    "\n",
    "1. The *time complexity* of an algorithm is `cN` for sure some fixed constant `c` that depends on the number of operations we perform in each iteration and the time taken to execute a statement. Time complexity is sometimes also called running time of the algorithms.\n",
    "    \n",
    "2. The *space complexity* is some constant `c'` (independent of `N`), since we just need a single variable `position` to iterate through the array, and it accupies a constant space in the computer's memory(RAM).\n",
    "> __Big O Notation__ : Worst-case complexity is often expressed using the Big O notation. In the Big O, we droiip fixed constants and lower powers of variables to capture the trend of relationship between the size of the input and the complexity of the algorithm i.e. if the complexity of the algorithm is `cN^3 + dN^2 + eN + f`, in the Big O notation it is expressed as **O(N^3)**."
   ]
  },
  {
   "cell_type": "markdown",
   "id": "6d1356cc-95c5-4466-b504-f6c5c2cb86f0",
   "metadata": {},
   "source": [
    "## 2. Binary Search\n",
    "- Logic\n",
    "> 1. Find the middle element of the list.\n",
    "> 2. If it matches queried number, return the middle position as the answer\n",
    "> 3. If it is less than the queried number, then search the first half of the list.\n",
    "> 4. If it is greater than the queried number, then search the second half of the list.\n",
    "> 5. If no more elements remain, return -1."
   ]
  },
  {
   "cell_type": "code",
   "execution_count": 6,
   "id": "7571b5d8-13fb-465c-a4c3-0d95d45f9ad7",
   "metadata": {},
   "outputs": [],
   "source": [
    "def binary_search(arr, query):\n",
    "    lo, hi = 0, len(arr) -1\n",
    "    while lo <= hi:\n",
    "        mid = (lo + hi) // 2\n",
    "        mid_number = arr[mid]\n",
    "        print(f\"lo : {lo}, hi: {hi}, mid: {mid}\")\n",
    "        if mid_number == query:\n",
    "            return mid\n",
    "        elif mid_number < query:\n",
    "            hi = mid -1\n",
    "        elif mid_number > query:\n",
    "            lo = mid + 1\n",
    "\n",
    "    return -1\n",
    "        "
   ]
  },
  {
   "cell_type": "code",
   "execution_count": 7,
   "id": "b2744c14-991b-460c-af72-26ca2dd967b9",
   "metadata": {},
   "outputs": [
    {
     "name": "stdout",
     "output_type": "stream",
     "text": [
      "lo : 0, hi: 7, mid: 3\n"
     ]
    },
    {
     "data": {
      "text/plain": [
       "3"
      ]
     },
     "execution_count": 7,
     "metadata": {},
     "output_type": "execute_result"
    }
   ],
   "source": [
    "result = binary_search(**test['input'])\n",
    "result"
   ]
  },
  {
   "cell_type": "code",
   "execution_count": 10,
   "id": "065d916d-0a4f-48db-8a08-b3cc6d961979",
   "metadata": {},
   "outputs": [],
   "source": [
    "arr1 = [8, 8, 6,6,6,6,6,6,3,2,2,2,0,0,0]\n",
    "q1 = 6"
   ]
  },
  {
   "cell_type": "code",
   "execution_count": 11,
   "id": "fd735e09-fa64-44bb-a688-d4c84492c2c4",
   "metadata": {},
   "outputs": [
    {
     "name": "stdout",
     "output_type": "stream",
     "text": [
      "lo : 0, hi: 14, mid: 7\n"
     ]
    },
    {
     "data": {
      "text/plain": [
       "7"
      ]
     },
     "execution_count": 11,
     "metadata": {},
     "output_type": "execute_result"
    }
   ],
   "source": [
    "res = binary_search(arr1, q1)\n",
    "res"
   ]
  },
  {
   "cell_type": "code",
   "execution_count": 16,
   "id": "968213c7-ccac-4311-9a50-1a3db78235c8",
   "metadata": {},
   "outputs": [],
   "source": [
    "def binary_helper(arr, query, mid):\n",
    "    if arr[mid] == query:\n",
    "        if mid-1 >= 0 and arr[mid-1] == query:\n",
    "            return 'left'\n",
    "        else:\n",
    "            return 'found'\n",
    "    elif arr[mid] < query:\n",
    "        return 'left'\n",
    "    else:\n",
    "        return 'right'\n",
    "\n",
    "def binary_search_algo(arr, query):\n",
    "    lo, hi = 0, len(arr)-1\n",
    "    while lo <= hi:\n",
    "        mid = (lo + hi) // 2\n",
    "        result = binary_helper(arr, query, mid)\n",
    "        if result == 'found':\n",
    "            return mid\n",
    "        elif result == 'left':\n",
    "            hi = mid - 1\n",
    "        elif result == 'right':\n",
    "            lo = mid + 1\n",
    "    return -1"
   ]
  },
  {
   "cell_type": "code",
   "execution_count": 17,
   "id": "c15ecdd4-31fe-45f1-8c39-9f6cba383b1f",
   "metadata": {},
   "outputs": [
    {
     "data": {
      "text/plain": [
       "2"
      ]
     },
     "execution_count": 17,
     "metadata": {},
     "output_type": "execute_result"
    }
   ],
   "source": [
    "res = binary_search_algo(arr1, q1)\n",
    "res"
   ]
  },
  {
   "cell_type": "code",
   "execution_count": 18,
   "id": "0e600fcc-96e3-460d-9013-d948177d1f08",
   "metadata": {},
   "outputs": [],
   "source": [
    "# time complexity O(log N)\n",
    "# space complexity O(1)"
   ]
  },
  {
   "cell_type": "markdown",
   "id": "a94ad0d2-a8d1-4de4-94a0-f093630245d7",
   "metadata": {},
   "source": [
    "#### Generic binary search \n"
   ]
  },
  {
   "cell_type": "code",
   "execution_count": 28,
   "id": "8754834c-e5b6-4113-b8c8-724f06ac2adb",
   "metadata": {},
   "outputs": [],
   "source": [
    "def generic_binary_search(lo, hi, condition):\n",
    "    while lo <= hi:\n",
    "        mid = (lo + hi) // 2\n",
    "        res = condition(mid)\n",
    "        if res == 'found':\n",
    "            return mid\n",
    "        elif res == 'left':\n",
    "            hi = mid - 1\n",
    "        else:\n",
    "            lo = mid + 1\n",
    "    return -1\n",
    "\n",
    "def generic_binary_search_impl(arr, query):\n",
    "    def condition(mid):\n",
    "        if arr[mid] == query:\n",
    "            if mid > 0 and arr[mid-1] == query:\n",
    "                return 'left'\n",
    "            else:\n",
    "                return 'found'\n",
    "        elif arr[mid] < query:\n",
    "            return 'left'\n",
    "        else:\n",
    "            return 'right'\n",
    "    return generic_binary_search(0, len(arr) -1, condition)"
   ]
  },
  {
   "cell_type": "code",
   "execution_count": 31,
   "id": "7f69ebdc-7766-472b-8cd6-5689537562a2",
   "metadata": {},
   "outputs": [
    {
     "data": {
      "text/plain": [
       "3"
      ]
     },
     "execution_count": 31,
     "metadata": {},
     "output_type": "execute_result"
    }
   ],
   "source": [
    "generic_binary_search_impl(**test['input'])"
   ]
  },
  {
   "cell_type": "code",
   "execution_count": 32,
   "id": "e9be5330-4446-48e2-b09b-7b7687765950",
   "metadata": {},
   "outputs": [
    {
     "data": {
      "text/plain": [
       "2"
      ]
     },
     "execution_count": 32,
     "metadata": {},
     "output_type": "execute_result"
    }
   ],
   "source": [
    "res = generic_binary_search_impl(arr1, q1)\n",
    "res"
   ]
  },
  {
   "cell_type": "code",
   "execution_count": 33,
   "id": "b1ef840e-5616-4777-98c6-c9e81369b63e",
   "metadata": {},
   "outputs": [
    {
     "data": {
      "text/plain": [
       "2"
      ]
     },
     "execution_count": 33,
     "metadata": {},
     "output_type": "execute_result"
    }
   ],
   "source": [
    "res = binary_search_algo(arr1, q1)\n",
    "res"
   ]
  },
  {
   "cell_type": "code",
   "execution_count": null,
   "id": "b325df65-6911-4732-adb4-96b8ff94381a",
   "metadata": {},
   "outputs": [],
   "source": []
  }
 ],
 "metadata": {
  "kernelspec": {
   "display_name": "Python 3 (ipykernel)",
   "language": "python",
   "name": "python3"
  },
  "language_info": {
   "codemirror_mode": {
    "name": "ipython",
    "version": 3
   },
   "file_extension": ".py",
   "mimetype": "text/x-python",
   "name": "python",
   "nbconvert_exporter": "python",
   "pygments_lexer": "ipython3",
   "version": "3.11.7"
  }
 },
 "nbformat": 4,
 "nbformat_minor": 5
}
