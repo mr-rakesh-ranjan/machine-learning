{
 "cells": [
  {
   "cell_type": "markdown",
   "id": "a31b36e4-5132-4a97-9812-2d0fff9768fa",
   "metadata": {},
   "source": [
    "## Algorithms - It is simply a list of statements which can be converted into code and executed by computer on different sets of inputs.\n",
    "\n",
    "### Searching - It is technique to find something in something.\n",
    "    1. Linear Search\n",
    "    2. Binary Search\n",
    "    3. \n",
    "    "
   ]
  },
  {
   "cell_type": "markdown",
   "id": "3b937a2a-df30-403f-81f8-6bfa0909c318",
   "metadata": {},
   "source": [
    "## 1. Linear Seacrch Algorithms\n",
    "    It involves searching through a list in a linear fashion i.e. element after element"
   ]
  },
  {
   "cell_type": "code",
   "execution_count": 1,
   "id": "a4ada371-6e8e-40a7-9b0b-790d88fc50bf",
   "metadata": {},
   "outputs": [],
   "source": [
    "def linear_search(arr, query):\n",
    "    position = 0\n",
    "    while position < len(arr):\n",
    "        if arr[position] == query:\n",
    "            return position\n",
    "        position += 1\n",
    "    return -1\n",
    "        "
   ]
  },
  {
   "cell_type": "code",
   "execution_count": 4,
   "id": "ed055305-5089-438e-be78-56ecc639a5d2",
   "metadata": {},
   "outputs": [],
   "source": [
    "test = {\n",
    "    'input' : {\n",
    "        'arr' : [13, 11, 10, 7, 4,3,1,0],\n",
    "        'query' : 7\n",
    "    }, \n",
    "    'output' : 3\n",
    "}"
   ]
  },
  {
   "cell_type": "code",
   "execution_count": 5,
   "id": "39fcb883-4b46-4ca8-8e2e-fd55ec6e4305",
   "metadata": {},
   "outputs": [
    {
     "data": {
      "text/plain": [
       "3"
      ]
     },
     "execution_count": 5,
     "metadata": {},
     "output_type": "execute_result"
    }
   ],
   "source": [
    "result = linear_search(**test['input'])\n",
    "result"
   ]
  },
  {
   "cell_type": "markdown",
   "id": "fa423be7-144e-4e84-8082-8e61ef836729",
   "metadata": {},
   "source": [
    "# Analysis of Algorithms\n",
    "\n",
    "## Complexity and Big O Notation\n",
    "\n",
    "__Complexity__ of an algorithm is a measure of the amount of time and/or space required by an algorithm for an input of a given size e.g. _N_ .\n",
    "\n",
    "- Worst-case complexity means _highest possible time/space_\n",
    "\n",
    "In the case of linear search: \n",
    "\n",
    "1. The *time complexity* of an algorithm is `cN` for sure some fixed constant `c` that depends on the number of operations we perform in each iteration and the time taken to execute a statement. Time complexity is sometimes also called running time of the algorithms.\n",
    "    \n",
    "2. The *space complexity* is some constant `c'` (independent of `N`), since we just need a single variable `position` to iterate through the array, and it accupies a constant space in the computer's memory(RAM).\n",
    "> __Big O Notation__ : Worst-case complexity is often expressed using the Big O notation. In the Big O, we droiip fixed constants and lower powers of variables to capture the trend of relationship between the size of the input and the complexity of the algorithm i.e. if the complexity of the algorithm is `cN^3 + dN^2 + eN + f`, in the Big O notation it is expressed as **O(N^3)."
   ]
  },
  {
   "cell_type": "code",
   "execution_count": null,
   "id": "864938c8-4da1-4f4d-b160-ce3153fec11c",
   "metadata": {},
   "outputs": [],
   "source": []
  }
 ],
 "metadata": {
  "kernelspec": {
   "display_name": "Python 3 (ipykernel)",
   "language": "python",
   "name": "python3"
  },
  "language_info": {
   "codemirror_mode": {
    "name": "ipython",
    "version": 3
   },
   "file_extension": ".py",
   "mimetype": "text/x-python",
   "name": "python",
   "nbconvert_exporter": "python",
   "pygments_lexer": "ipython3",
   "version": "3.11.7"
  }
 },
 "nbformat": 4,
 "nbformat_minor": 5
}
