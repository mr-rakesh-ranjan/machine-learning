{
 "cells": [
  {
   "cell_type": "markdown",
   "id": "ccfabb4e-a7cc-4c54-b294-612b7e3b9765",
   "metadata": {},
   "source": [
    "# List\n",
    "\n",
    "- List is Linear data structure which store similar or mixed kind of data types.\n",
    "- List can also store another list or set etc(another data structure)\n",
    "- List can contain duplicate items.\r",
    "- \n",
    "List in Python are Mutable. Hence, we can modify, replace or delete the items.- \r\n",
    "List are ordered. It maintain the order of elements based on how they are added- .\r\n",
    "Accessing items in List can be done directly using their position (index), starting from 0."
   ]
  },
  {
   "cell_type": "code",
   "execution_count": 1,
   "id": "e40f8471-97a2-4e77-b702-a537a454bbd0",
   "metadata": {},
   "outputs": [],
   "source": [
    "l1 = [1, 78, 89, 9.3, \"rakesh\", True]  #define a list"
   ]
  },
  {
   "cell_type": "code",
   "execution_count": 3,
   "id": "8eb53019-2685-484f-86c9-f9a30a2e102e",
   "metadata": {},
   "outputs": [
    {
     "name": "stdout",
     "output_type": "stream",
     "text": [
      "1\n"
     ]
    }
   ],
   "source": [
    "ele1 = l1[0] #accessing element at index 1 because staring index is 0.\n",
    "print(ele1)"
   ]
  },
  {
   "cell_type": "code",
   "execution_count": 5,
   "id": "a52e6b42-00b6-473d-8697-f124ec909bd2",
   "metadata": {},
   "outputs": [
    {
     "name": "stdout",
     "output_type": "stream",
     "text": [
      "[1, 78, 89, 9.3, 'rakesh', True, 12]\n"
     ]
    }
   ],
   "source": [
    "# I want to add a new element at the end of list \n",
    "l1.append(12) #appending item at the end.\n",
    "print(l1)"
   ]
  },
  {
   "cell_type": "code",
   "execution_count": 7,
   "id": "00d4c631-691c-4e06-b90c-1ffd53c5eedf",
   "metadata": {},
   "outputs": [
    {
     "name": "stdout",
     "output_type": "stream",
     "text": [
      "[1, 78, 89, 9.3, True, 12]\n"
     ]
    }
   ],
   "source": [
    "# I want to remove some items from list, for ex - \"rakesh\"\n",
    "l1.remove(\"rakesh\")\n",
    "print(l1)"
   ]
  },
  {
   "cell_type": "code",
   "execution_count": 9,
   "id": "685184ea-39fd-49aa-81cd-b36013123695",
   "metadata": {},
   "outputs": [
    {
     "name": "stdout",
     "output_type": "stream",
     "text": [
      "[1, 78, 'India', 'India', 89, 9.3, True, 12]\n"
     ]
    }
   ],
   "source": [
    "# Lets say, I want to add an item at particular index. e.g. - added \"India\" at postion 3 -- then index become 3-1 = 2\n",
    "l1.insert(2, \"India\") #inserting at particular index\n",
    "print(l1)"
   ]
  },
  {
   "cell_type": "code",
   "execution_count": 10,
   "id": "f120aa08-688a-496d-9506-7580059b5ffa",
   "metadata": {},
   "outputs": [
    {
     "name": "stdout",
     "output_type": "stream",
     "text": [
      "[1, 78, 'India', 'India', 89, 9.3, True, 12, 90, 100, False]\n"
     ]
    }
   ],
   "source": [
    "# Adding multiple items in a list\n",
    "l1.extend([90, 100, False]) # this inserts all the items at the end of list\n",
    "print(l1)"
   ]
  },
  {
   "cell_type": "code",
   "execution_count": 16,
   "id": "bed30baf-901e-46ad-a6df-7ace9a30a2b2",
   "metadata": {},
   "outputs": [
    {
     "name": "stdout",
     "output_type": "stream",
     "text": [
      "before removing [1, 78, 'India', 12, 90, 100, False]\n",
      "after removing [1, 78, 'India', 90, 100, False]\n"
     ]
    }
   ],
   "source": [
    "# I want to remove from particular loaction\n",
    "print(\"before removing\",l1)\n",
    "l1.pop(3) \n",
    "print(\"after removing\", l1)"
   ]
  },
  {
   "cell_type": "code",
   "execution_count": 17,
   "id": "b9e864e8-fff9-4795-9410-3ab99ad5a35c",
   "metadata": {},
   "outputs": [
    {
     "name": "stdout",
     "output_type": "stream",
     "text": [
      "before removing [1, 78, 'India', 90, 100, False]\n",
      "after removing [1, 78, 90, 100, False]\n"
     ]
    }
   ],
   "source": [
    "#for removing items or removing whole list used del function\n",
    "print(\"before removing\",l1)\n",
    "del l1[2]\n",
    "print(\"after removing\", l1)\n"
   ]
  },
  {
   "cell_type": "code",
   "execution_count": 18,
   "id": "501efd28-3024-4fdd-9779-4f72409b5440",
   "metadata": {},
   "outputs": [
    {
     "ename": "NameError",
     "evalue": "name 'l1' is not defined",
     "output_type": "error",
     "traceback": [
      "\u001b[1;31m---------------------------------------------------------------------------\u001b[0m",
      "\u001b[1;31mNameError\u001b[0m                                 Traceback (most recent call last)",
      "Cell \u001b[1;32mIn[18], line 2\u001b[0m\n\u001b[0;32m      1\u001b[0m \u001b[38;5;28;01mdel\u001b[39;00m l1\n\u001b[1;32m----> 2\u001b[0m \u001b[38;5;28mprint\u001b[39m(l1)\n",
      "\u001b[1;31mNameError\u001b[0m: name 'l1' is not defined"
     ]
    }
   ],
   "source": [
    "del l1\n",
    "print(l1) # it through error because l1 is deleted that's why \"NameError: name 'l1' is not defined\""
   ]
  },
  {
   "cell_type": "markdown",
   "id": "ea5c97d2-7269-4b08-9128-341363d5eeaa",
   "metadata": {},
   "source": [
    "#### Iteration on list \n",
    "\n",
    "- using for loop"
   ]
  },
  {
   "cell_type": "code",
   "execution_count": 19,
   "id": "5a783a56-baf2-4d3a-bf07-d5c1892b7e70",
   "metadata": {},
   "outputs": [
    {
     "name": "stdout",
     "output_type": "stream",
     "text": [
      "1\n",
      "78\n",
      "89\n",
      "9.3\n",
      "rakesh\n",
      "True\n"
     ]
    }
   ],
   "source": [
    "l = [1, 78, 89, 9.3, \"rakesh\", True]  #define a list\n",
    "\n",
    "for item in l:\n",
    "    print(item)"
   ]
  },
  {
   "cell_type": "markdown",
   "id": "6e197825-caf0-428a-b030-85674fe3832e",
   "metadata": {},
   "source": [
    "- using enumerate\n",
    "  \n",
    "    Explaination - The __enumerate__ function adds a counter to an iterable and returns it as an enumerate object. This can be particularly useful when you need both the index and the value of items in a loop."
   ]
  },
  {
   "cell_type": "code",
   "execution_count": 21,
   "id": "1977a420-0f89-4cd1-837c-b930e54cc104",
   "metadata": {},
   "outputs": [
    {
     "name": "stdout",
     "output_type": "stream",
     "text": [
      "1 1\n",
      "2 78\n",
      "3 89\n",
      "4 9.3\n",
      "5 rakesh\n",
      "6 True\n"
     ]
    }
   ],
   "source": [
    "for index, item in enumerate(l, start=1):\n",
    "    print(index, item)"
   ]
  },
  {
   "cell_type": "code",
   "execution_count": 22,
   "id": "cb0e6459-d5c6-4a45-bf41-9117391aab8a",
   "metadata": {},
   "outputs": [
    {
     "name": "stdout",
     "output_type": "stream",
     "text": [
      "0 1\n",
      "1 78\n",
      "2 89\n",
      "3 9.3\n",
      "4 rakesh\n",
      "5 True\n"
     ]
    }
   ],
   "source": [
    "for index, item in enumerate(l):\n",
    "    print(index, item)"
   ]
  },
  {
   "cell_type": "code",
   "execution_count": null,
   "id": "6bc59d3d-d280-4736-91ad-89294f2c809b",
   "metadata": {},
   "outputs": [],
   "source": []
  }
 ],
 "metadata": {
  "kernelspec": {
   "display_name": "Python 3 (ipykernel)",
   "language": "python",
   "name": "python3"
  },
  "language_info": {
   "codemirror_mode": {
    "name": "ipython",
    "version": 3
   },
   "file_extension": ".py",
   "mimetype": "text/x-python",
   "name": "python",
   "nbconvert_exporter": "python",
   "pygments_lexer": "ipython3",
   "version": "3.11.7"
  }
 },
 "nbformat": 4,
 "nbformat_minor": 5
}
