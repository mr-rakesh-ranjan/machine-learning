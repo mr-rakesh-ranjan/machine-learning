{
 "cells": [
  {
   "cell_type": "code",
   "execution_count": 1,
   "id": "b823bf4a-ac8a-490f-9b00-77cae607b843",
   "metadata": {},
   "outputs": [],
   "source": [
    "import numpy as np"
   ]
  },
  {
   "cell_type": "code",
   "execution_count": 2,
   "id": "5b94a5dd-2628-482f-9182-2eb72d808281",
   "metadata": {},
   "outputs": [],
   "source": [
    "data = np.loadtxt(\"data.csv\", delimiter=\",\")"
   ]
  },
  {
   "cell_type": "code",
   "execution_count": 3,
   "id": "b3453989-812e-4baf-9e2e-282b52fa0856",
   "metadata": {},
   "outputs": [],
   "source": [
    "x= data[:,0]\n",
    "y = data[:,1]"
   ]
  },
  {
   "cell_type": "code",
   "execution_count": 4,
   "id": "0e23ee02-4127-42e5-8998-5b45f213d557",
   "metadata": {},
   "outputs": [
    {
     "data": {
      "text/plain": [
       "(100,)"
      ]
     },
     "execution_count": 4,
     "metadata": {},
     "output_type": "execute_result"
    }
   ],
   "source": [
    "x.shape"
   ]
  },
  {
   "cell_type": "code",
   "execution_count": 5,
   "id": "ed9136ca-6486-4420-96cf-0a8476f2d17b",
   "metadata": {},
   "outputs": [
    {
     "data": {
      "text/plain": [
       "(70,)"
      ]
     },
     "execution_count": 5,
     "metadata": {},
     "output_type": "execute_result"
    }
   ],
   "source": [
    "from sklearn import model_selection\n",
    "X_train, X_test, Y_train, Y_test = model_selection.train_test_split(x,y, test_size=0.3)\n",
    "X_train.shape"
   ]
  },
  {
   "cell_type": "code",
   "execution_count": 6,
   "id": "fac55a27-8815-43dd-9d43-4b3052ccce79",
   "metadata": {},
   "outputs": [],
   "source": [
    "def fit(x_train, y_train):\n",
    "    num = (x_train * y_train).mean() - x_train.mean() * y_train.mean()\n",
    "    den = (x_train**2).mean() - x_train.mean()**2\n",
    "    m = num/den\n",
    "    c = y_train.mean() - m * x_train.mean()\n",
    "    return m, c"
   ]
  },
  {
   "cell_type": "code",
   "execution_count": 9,
   "id": "d0e26946-e950-41f1-8a74-e270e89cf958",
   "metadata": {},
   "outputs": [],
   "source": [
    "def predict(x, m , c):\n",
    "    return m * x + c\n",
    "\n",
    "def score(y_truth, y_pred):\n",
    "    u = ((y_truth - y_pred) ** 2).sum()\n",
    "    v = ((y_truth - y_truth.mean()) ** 2).sum()\n",
    "    return 1-u/v\n",
    "\n",
    "def cost(x, y, m, c):\n",
    "    return ((y - m * x - c) ** 2).mean() "
   ]
  },
  {
   "cell_type": "code",
   "execution_count": 10,
   "id": "b6523515-3197-46c6-8922-1fdd82e2c44f",
   "metadata": {},
   "outputs": [
    {
     "name": "stdout",
     "output_type": "stream",
     "text": [
      "Test score  0.48061558473264687\n",
      "Train Scored :  0.6340029291740368\n",
      "M C  1.3653065282312127 5.339074274946512\n",
      "The final cost for training data  108.28917103228727\n"
     ]
    }
   ],
   "source": [
    "m, c = fit(X_train, Y_train)\n",
    "\n",
    "#test data \n",
    "y_test_pred = predict(X_test, m , c)\n",
    "print(\"Test score \", score(Y_test, y_test_pred))\n",
    "\n",
    "#train data \n",
    "y_train_pred = predict(X_train, m, c)\n",
    "print(\"Train Scored : \", score(Y_train, y_train_pred))\n",
    "print(\"M C \", m, c)\n",
    "print(\"The final cost for training data \", cost(X_train, Y_train, m , c))\n"
   ]
  },
  {
   "cell_type": "code",
   "execution_count": null,
   "id": "774c930a-dde6-49ad-ae88-d40bb6df1d59",
   "metadata": {},
   "outputs": [],
   "source": []
  }
 ],
 "metadata": {
  "kernelspec": {
   "display_name": "Python 3 (ipykernel)",
   "language": "python",
   "name": "python3"
  },
  "language_info": {
   "codemirror_mode": {
    "name": "ipython",
    "version": 3
   },
   "file_extension": ".py",
   "mimetype": "text/x-python",
   "name": "python",
   "nbconvert_exporter": "python",
   "pygments_lexer": "ipython3",
   "version": "3.11.5"
  }
 },
 "nbformat": 4,
 "nbformat_minor": 5
}
