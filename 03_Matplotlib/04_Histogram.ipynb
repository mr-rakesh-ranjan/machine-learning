{
 "cells": [
  {
   "cell_type": "code",
   "execution_count": 1,
   "id": "ef30d152",
   "metadata": {},
   "outputs": [],
   "source": [
    "import matplotlib.pyplot as plt"
   ]
  },
  {
   "cell_type": "code",
   "execution_count": 9,
   "id": "655bf59e",
   "metadata": {},
   "outputs": [],
   "source": [
    "data = [1,2,3,4,3,2,2,4,1,2,1,1,3,2,3]"
   ]
  },
  {
   "cell_type": "code",
   "execution_count": 10,
   "id": "2ab4a705",
   "metadata": {},
   "outputs": [
    {
     "data": {
      "image/png": "[encoded data removed]",
      "text/plain": [
       "<Figure size 432x288 with 1 Axes>"
      ]
     },
     "metadata": {
      "needs_background": "light"
     },
     "output_type": "display_data"
    }
   ],
   "source": [
    "plt.hist(data)\n",
    "plt.show()"
   ]
  },
  {
   "cell_type": "code",
   "execution_count": 11,
   "id": "6728de02",
   "metadata": {},
   "outputs": [],
   "source": [
    "b = [1,2,1,3,5,4,5,5,4,3,3,10,7,6,7,8,8,20,22,11,14]"
   ]
  },
  {
   "cell_type": "code",
   "execution_count": 15,
   "id": "b84899a0",
   "metadata": {},
   "outputs": [],
   "source": [
    "import numpy as np\n",
    "xt = np.arange(23)"
   ]
  },
  {
   "cell_type": "code",
   "execution_count": 22,
   "id": "652bd7e1",
   "metadata": {},
   "outputs": [
    {
     "data": {
      "image/png": "[encoded data removed]",
      "text/plain": [
       "<Figure size 432x288 with 1 Axes>"
      ]
     },
     "metadata": {
      "needs_background": "light"
     },
     "output_type": "display_data"
    }
   ],
   "source": [
    "plt.hist(b, bins=21, edgecolor='black')\n",
    "plt.xticks(xt)\n",
    "plt.show()\n"
   ]
  },
  {
   "cell_type": "code",
   "execution_count": 25,
   "id": "784c32b8",
   "metadata": {},
   "outputs": [
    {
     "data": {
      "image/png": "[encoded data removed]",
      "text/plain": [
       "<Figure size 432x288 with 1 Axes>"
      ]
     },
     "metadata": {
      "needs_background": "light"
     },
     "output_type": "display_data"
    }
   ],
   "source": [
    "plt.hist(b, bins=[1,3,6,10,15,20], edgecolor='black')\n",
    "plt.axis([0,25,0,10])\n",
    "plt.show()\n"
   ]
  },
  {
   "cell_type": "code",
   "execution_count": null,
   "id": "cdbee217",
   "metadata": {},
   "outputs": [],
   "source": []
  }
 ],
 "metadata": {
  "kernelspec": {
   "display_name": "Python 3 (ipykernel)",
   "language": "python",
   "name": "python3"
  },
  "language_info": {
   "codemirror_mode": {
    "name": "ipython",
    "version": 3
   },
   "file_extension": ".py",
   "mimetype": "text/x-python",
   "name": "python",
   "nbconvert_exporter": "python",
   "pygments_lexer": "ipython3",
   "version": "3.9.12"
  }
 },
 "nbformat": 4,
 "nbformat_minor": 5
}
