{
 "cells": [
  {
   "cell_type": "code",
   "execution_count": 3,
   "id": "79d00f94",
   "metadata": {},
   "outputs": [],
   "source": [
    "import numpy as np"
   ]
  },
  {
   "cell_type": "code",
   "execution_count": 7,
   "id": "c6b70801",
   "metadata": {},
   "outputs": [
    {
     "name": "stdout",
     "output_type": "stream",
     "text": [
      "0\n",
      "1\n",
      "2\n",
      "3\n",
      "4\n",
      "5\n",
      "6\n",
      "7\n",
      "8\n",
      "9\n"
     ]
    }
   ],
   "source": [
    "a = np.arange(10, dtype = int)\n",
    "\n",
    "for i in a:\n",
    "    print(a[i])"
   ]
  },
  {
   "cell_type": "markdown",
   "id": "b999ee27",
   "metadata": {},
   "source": [
    "- arange(start, end, stepper, dtype) \n",
    "\n",
    "    start :- starting value\n",
    "\n",
    "    end :- ending value exclusive\n",
    "    \n",
    "    stepper :- spacing between values\n",
    "    \n",
    "    stype :- data type"
   ]
  },
  {
   "cell_type": "code",
   "execution_count": null,
   "id": "08289805",
   "metadata": {},
   "outputs": [],
   "source": []
  }
 ],
 "metadata": {
  "kernelspec": {
   "display_name": "Python 3 (ipykernel)",
   "language": "python",
   "name": "python3"
  },
  "language_info": {
   "codemirror_mode": {
    "name": "ipython",
    "version": 3
   },
   "file_extension": ".py",
   "mimetype": "text/x-python",
   "name": "python",
   "nbconvert_exporter": "python",
   "pygments_lexer": "ipython3",
   "version": "3.9.12"
  }
 },
 "nbformat": 4,
 "nbformat_minor": 5
}
